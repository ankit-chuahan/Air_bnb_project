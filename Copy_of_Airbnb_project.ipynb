{
  "nbformat": 4,
  "nbformat_minor": 0,
  "metadata": {
    "colab": {
      "private_outputs": true,
      "provenance": [],
      "collapsed_sections": [
        "w6K7xa23Elo4",
        "7hBIi_osiCS2",
        "JlHwYmJAmNHm",
        "PoPl-ycgm1ru",
        "_xUpRUvc25OC",
        "nA9Y7ga8ng1Z",
        "dauF4eBmngu3",
        "bKJF3rekwFvQ",
        "K5QZ13OEpz2H",
        "lQ7QKXXCp7Bj",
        "4Of9eVA-YrdM",
        "bbFf2-_FphqN",
        "_ouA3fa0phqN",
        "JcMwzZxoAimU",
        "H0kj-8xxnORC"
      ],
      "include_colab_link": true
    },
    "kernelspec": {
      "name": "python3",
      "display_name": "Python 3"
    },
    "language_info": {
      "name": "python"
    }
  },
  "cells": [
    {
      "cell_type": "markdown",
      "metadata": {
        "id": "view-in-github",
        "colab_type": "text"
      },
      "source": [
        "<a href=\"https://colab.research.google.com/github/ankit-chuahan/Air_bnb_project/blob/main/Copy_of_Airbnb_project.ipynb\" target=\"_parent\"><img src=\"https://colab.research.google.com/assets/colab-badge.svg\" alt=\"Open In Colab\"/></a>"
      ]
    },
    {
      "cell_type": "markdown",
      "source": [
        "# **Project Name**   \n",
        "\n",
        "Exploratory data analysis  on Airbnb -\n",
        "\n"
      ],
      "metadata": {
        "id": "vncDsAP0Gaoa"
      }
    },
    {
      "cell_type": "markdown",
      "source": [
        "##### **Project Type**    - EDA\n",
        "##### **Contribution**    - Individual\n",
        "##### **Created BY-**     Ankit chauhan\n"
      ],
      "metadata": {
        "id": "beRrZCGUAJYm"
      }
    },
    {
      "cell_type": "markdown",
      "source": [
        "# **Project Summary -**"
      ],
      "metadata": {
        "id": "FJNUwmbgGyua"
      }
    },
    {
      "cell_type": "markdown",
      "source": [
        "**Analysis on Airbnb DATA set**\n",
        "\n",
        "Airbnb  is an online marketplace that connects people who want to rent out their homes with people looking for accommodations in specific locales. The company has come a long way since 2007, when its co-founders first came up with the idea to invite paying guests to sleep on an air mattress in their living room....   This dataset has around 49,000 observations in it with 16 columns and it is a mix of categorical and numeric values.\n",
        "the main goal of the analysis this data set is to improve the bussiness model and easily acess  this type of models in other places of word most of people like to travel . and most of the travelers find out that accomodation is the major problem during trips. and thats why i Take up this project to find out some insight how can people save there money through those platform .i start with looking this project and finding missing values and null values first i start clean this dataset then i start my analysis.\n",
        "i have soo many question soo i start with which location has most number of listing and and what are type of rooms there and on which location people willing to spend nights. Then i find out who is most popular host and if he is getting reviews or not. and distribution of price.and does latitudes and longitudes play a significant role in listing price. or  on which location people willing to spend more."
      ],
      "metadata": {
        "id": "F6v_1wHtG2nS"
      }
    },
    {
      "cell_type": "markdown",
      "source": [
        "# **GitHub Link -**"
      ],
      "metadata": {
        "id": "w6K7xa23Elo4"
      }
    },
    {
      "cell_type": "markdown",
      "source": [
        "Provide your GitHub Link here. https://github.com/ankit-chuahan/Air_bnb_project/blob/main/Copy_of_Airbnb_project.ipynb"
      ],
      "metadata": {
        "id": "h1o69JH3Eqqn"
      }
    },
    {
      "cell_type": "markdown",
      "source": [
        "# **Problem Statement**\n"
      ],
      "metadata": {
        "id": "yQaldy8SH6Dl"
      }
    },
    {
      "cell_type": "markdown",
      "source": [
        "* Which location has most number of listing and what types of rooms are present there?\n",
        "* which listing has most number of branches?\n",
        "* On which location peoples are willing to spend nights?\n",
        "* On which location people are willing to spend more money for booking?\n",
        "* on which location there are most number of avilable rooms?\n",
        "* who is most popular host in each listing ?\n",
        "* which location is getting highest number of reviews?\n",
        "* which host is getting highest number of reviews?\n",
        "* who is the top host from every location?\n",
        "* price distribution among listing\n",
        "\n",
        "\n",
        "\n",
        "\n",
        "\n"
      ],
      "metadata": {
        "id": "mAvQO0YKc-HT"
      }
    },
    {
      "cell_type": "markdown",
      "source": [
        "# ***Let's Begin !***"
      ],
      "metadata": {
        "id": "O_i_v8NEhb9l"
      }
    },
    {
      "cell_type": "markdown",
      "source": [
        "## ***1. Know Your Data***"
      ],
      "metadata": {
        "id": "HhfV-JJviCcP"
      }
    },
    {
      "cell_type": "markdown",
      "source": [
        "### Import Libraries"
      ],
      "metadata": {
        "id": "Y3lxredqlCYt"
      }
    },
    {
      "cell_type": "code",
      "source": [
        "# Importing Libraries\n",
        "\n",
        "import pandas as pd\n",
        "import numpy as np\n",
        "import matplotlib.pyplot as plt\n",
        "import seaborn as sns"
      ],
      "metadata": {
        "id": "M8Vqi-pPk-HR"
      },
      "execution_count": null,
      "outputs": []
    },
    {
      "cell_type": "markdown",
      "source": [
        "### Dataset Loading"
      ],
      "metadata": {
        "id": "3RnN4peoiCZX"
      }
    },
    {
      "cell_type": "code",
      "source": [
        "# Loading Dataset\n",
        "air = pd.read_csv(\"/content/Airbnb__.csv\",encoding='unicode escape')"
      ],
      "metadata": {
        "id": "4CkvbW_SlZ_R"
      },
      "execution_count": null,
      "outputs": []
    },
    {
      "cell_type": "markdown",
      "source": [
        "### Dataset First View"
      ],
      "metadata": {
        "id": "x71ZqKXriCWQ"
      }
    },
    {
      "cell_type": "code",
      "source": [
        "# Dataset First Look\n",
        "air.head()"
      ],
      "metadata": {
        "id": "LWNFOSvLl09H"
      },
      "execution_count": null,
      "outputs": []
    },
    {
      "cell_type": "code",
      "source": [
        "air.tail()"
      ],
      "metadata": {
        "id": "LpTCB6YHR1ih"
      },
      "execution_count": null,
      "outputs": []
    },
    {
      "cell_type": "markdown",
      "source": [
        "### Dataset Rows & Columns count"
      ],
      "metadata": {
        "id": "7hBIi_osiCS2"
      }
    },
    {
      "cell_type": "code",
      "source": [
        "# Dataset Rows & Columns count\n",
        "air.shape\n",
        "print(\"the number of rows in dataframe is:\",air.shape[0])\n",
        "print(\"the number of columns in dataframe is:\",air.shape[1])"
      ],
      "metadata": {
        "id": "Kllu7SJgmLij"
      },
      "execution_count": null,
      "outputs": []
    },
    {
      "cell_type": "markdown",
      "source": [
        "### Dataset Information"
      ],
      "metadata": {
        "id": "JlHwYmJAmNHm"
      }
    },
    {
      "cell_type": "code",
      "source": [
        "# Dataset Info\n",
        "air.info()"
      ],
      "metadata": {
        "id": "e9hRXRi6meOf"
      },
      "execution_count": null,
      "outputs": []
    },
    {
      "cell_type": "markdown",
      "source": [
        "#### Duplicate Values"
      ],
      "metadata": {
        "id": "35m5QtbWiB9F"
      }
    },
    {
      "cell_type": "code",
      "source": [
        "# Dataset Duplicate Value Count\n",
        "air.duplicated().sum()  #there is no dublicate values in the dataset"
      ],
      "metadata": {
        "id": "1sLdpKYkmox0"
      },
      "execution_count": null,
      "outputs": []
    },
    {
      "cell_type": "markdown",
      "source": [
        "#### Missing Values/Null Values"
      ],
      "metadata": {
        "id": "PoPl-ycgm1ru"
      }
    },
    {
      "cell_type": "code",
      "source": [
        "# Missing Values/Null Values Count\n",
        "air.isnull().sum()   #we can see that there are some null values in the df soo we have to remove them or fill them"
      ],
      "metadata": {
        "id": "GgHWkxvamxVg"
      },
      "execution_count": null,
      "outputs": []
    },
    {
      "cell_type": "code",
      "source": [
        "# Visualizing the missing values\n",
        "sns.heatmap(air.isnull(),cmap=\"Greens\",)\n",
        "\n",
        "#here we can see that  last review and review per month is full of null values"
      ],
      "metadata": {
        "id": "3q5wnI3om9sJ"
      },
      "execution_count": null,
      "outputs": []
    },
    {
      "cell_type": "markdown",
      "source": [
        "## **Data cleaning Dropping null values or columns which we dont use in EDA**"
      ],
      "metadata": {
        "id": "_xUpRUvc25OC"
      }
    },
    {
      "cell_type": "code",
      "source": [
        "air.drop(['last_review',\"id\"],axis=1,inplace=True)\n",
        "# here i drop the column last_review  , id because i dont need it for anaylisis"
      ],
      "metadata": {
        "id": "7p7aUlKR2pc2"
      },
      "execution_count": null,
      "outputs": []
    },
    {
      "cell_type": "code",
      "source": [
        "air.rename( columns={\"neighbourhood_group\" :\"location\",\"neighbourhood\":\"area\",} ,inplace=True)  #renaming some columns"
      ],
      "metadata": {
        "id": "xsTklQq42s9U"
      },
      "execution_count": null,
      "outputs": []
    },
    {
      "cell_type": "code",
      "source": [
        "mean_of =air[\"reviews_per_month\"].mean().round(2)\n",
        "mean_of\n",
        "air[\"reviews_per_month\"].fillna(mean_of,inplace=True)\n",
        "\n",
        "#here i am filling the missing values with the mean values"
      ],
      "metadata": {
        "id": "TkUfCchL2xSP"
      },
      "execution_count": null,
      "outputs": []
    },
    {
      "cell_type": "code",
      "source": [
        "air.dropna(inplace=True)\n",
        "# here we drop all the null values now data is clean"
      ],
      "metadata": {
        "id": "UKS0drjC20PM"
      },
      "execution_count": null,
      "outputs": []
    },
    {
      "cell_type": "markdown",
      "source": [
        "## ***2. Understanding Your Variables***"
      ],
      "metadata": {
        "id": "nA9Y7ga8ng1Z"
      }
    },
    {
      "cell_type": "code",
      "source": [
        "# Dataset Columns\n",
        "air.columns"
      ],
      "metadata": {
        "id": "j7xfkqrt5Ag5"
      },
      "execution_count": null,
      "outputs": []
    },
    {
      "cell_type": "code",
      "source": [
        "# Dataset Describe\n",
        "air.describe()"
      ],
      "metadata": {
        "id": "DnOaZdaE5Q5t"
      },
      "execution_count": null,
      "outputs": []
    },
    {
      "cell_type": "markdown",
      "source": [
        "### Variables Description"
      ],
      "metadata": {
        "id": "PBTbrJXOngz2"
      }
    },
    {
      "cell_type": "markdown",
      "source": [
        "**Id** it is the unique id\n",
        "\n",
        "**name** it is th name of listing\n",
        "\n",
        "**host id**  it is the unique id of host\n",
        "\n",
        "**host_name** name of the host\n",
        "\n",
        "**neighbourhood_group**  it is the location where property is\n",
        "\n",
        "**neighbourhood**  its area where it is\n",
        "\n",
        "**room_type**  there are different type of rooms avilable soo what type of room\n",
        "\n",
        "**price**  price of listing\n",
        "\n",
        "**minimum_nights**  number of nights spend there\n",
        "\n",
        "**number_of_reviews** total number of reviews\n",
        "\n",
        "**latitude ,longitude**  its about a perticular range where location is\n",
        "\n",
        "**calculated_host_listings_count**  total number of listing\n",
        "\n",
        "**availability_365**   avilability all over the year\n",
        "\n",
        "\n"
      ],
      "metadata": {
        "id": "aJV4KIxSnxay"
      }
    },
    {
      "cell_type": "markdown",
      "source": [
        "## ***4. Data Vizualization, Storytelling & Experimenting with charts : Understand the relationships between variables and Data wrangling***"
      ],
      "metadata": {
        "id": "GF8Ens_Soomf"
      }
    },
    {
      "cell_type": "markdown",
      "source": [
        "#### Chart - 1"
      ],
      "metadata": {
        "id": "0wOQAZs5pc--"
      }
    },
    {
      "cell_type": "code",
      "source": [
        "# this plot shows us listing according to location.....\n",
        "  # from this we can get  which is the most famous location according to listing\n",
        "\n",
        "plt.figure(figsize=(15, 5))\n",
        "\n",
        "\n",
        "plt.subplot(1,2,1)\n",
        "loc = sns.countplot( x=\"location\",data = air )\n",
        "loc.bar_label(loc.containers[0])                    # creating a countainer  just show the count on bars\n",
        "\n",
        "\n",
        "\n",
        "plt.subplot(1,2,2)\n",
        "room_typ = sns.countplot( x=\"location\",data = air,hue=\"room_type\")        #here hue is used to differnciate\n",
        "room_typ.bar_label(room_typ.containers[0])                           #creating a container\n",
        "for bars in room_typ.containers:\n",
        "    room_typ.bar_label(bars,label_type='edge')\n",
        "\n",
        "plt.tight_layout()\n",
        "plt.show()\n",
        "\n",
        "\n"
      ],
      "metadata": {
        "id": "7v_ESjsspbW7"
      },
      "execution_count": null,
      "outputs": []
    },
    {
      "cell_type": "markdown",
      "source": [
        "##### 1. Why did you pick the specific chart?"
      ],
      "metadata": {
        "id": "K5QZ13OEpz2H"
      }
    },
    {
      "cell_type": "markdown",
      "source": [
        "**I choose this beacuse i want to know  the different categorical location and want to know what is the prefered type of room  soo bar plot is best suited there for comparison between differnt categorical var**"
      ],
      "metadata": {
        "id": "XESiWehPqBRc"
      }
    },
    {
      "cell_type": "markdown",
      "source": [
        "##### 2. What is/are the insight(s) found from the chart?"
      ],
      "metadata": {
        "id": "lQ7QKXXCp7Bj"
      }
    },
    {
      "cell_type": "markdown",
      "source": [
        "**from the graph i can clearly see the manhattam and brooklyn has most number of listing and In every location people prefer private room but in manhattann they prefer entire apartment reather then private room**"
      ],
      "metadata": {
        "id": "xE6k_bfs5PF1"
      }
    },
    {
      "cell_type": "markdown",
      "source": [
        "##### 3. Will the gained insights help creating a positive business impact?\n",
        "Are there any insights that lead to negative growth? Justify with specific reason."
      ],
      "metadata": {
        "id": "-JiQyfWJYklI"
      }
    },
    {
      "cell_type": "markdown",
      "source": [
        "*** Entire apartments are often priced higher than private rooms because they offer more space and privacy. This can potentially lead to higher revenue for the business and probably manhattan revenue is increasing over the time because they have more listing then any other and eventhough they have more private appartment then other location ..that attract travelers who prioritize space, privacy over price***"
      ],
      "metadata": {
        "id": "BcBbebzrYklV"
      }
    },
    {
      "cell_type": "markdown",
      "source": [
        "#### Chart - 2"
      ],
      "metadata": {
        "id": "FxntUy4qU7m3"
      }
    },
    {
      "cell_type": "code",
      "source": [
        "# FRequancy of the listing name / Branches of a perticular listing\n",
        "\n",
        "plt.figure(figsize=(20,8))\n",
        "plt.ylim(4,20)                                       # setting Y axis limit\n",
        "name_ = air[\"name\"].value_counts()                   # using value count\n",
        "new=name_[:30].plot(kind=\"bar\",color=\"m\")            # ploting bar graph\n",
        "\n",
        "new.bar_label(new.containers[0])                     # creating a container\n",
        "plt.show()                                           # show"
      ],
      "metadata": {
        "id": "oq3nVgpSU7nE"
      },
      "execution_count": null,
      "outputs": []
    },
    {
      "cell_type": "markdown",
      "source": [
        "##### 1. What is/are the insight(s) found from the chart?"
      ],
      "metadata": {
        "id": "UooW580lU7nE"
      }
    },
    {
      "cell_type": "markdown",
      "source": [
        "**From the above data we can clearly identify that which which listing  has most branches all over the place**"
      ],
      "metadata": {
        "id": "NN0ON67dU7nE"
      }
    },
    {
      "cell_type": "markdown",
      "source": [
        "##### 2. Will the gained insights help creating a positive business impact?\n",
        "Are there any insights that lead to negative growth? Justify with specific reason."
      ],
      "metadata": {
        "id": "imKV-JzMU7nF"
      }
    },
    {
      "cell_type": "markdown",
      "source": [
        "**A successful business with multiple branches can build a loyal customer base. Customers who have had positive experiences at one location are more likely to visit other branches with the same name, especially if they trust the brand**"
      ],
      "metadata": {
        "id": "Q99JoT-OU7nF"
      }
    },
    {
      "cell_type": "markdown",
      "source": [
        "#### Chart - 3"
      ],
      "metadata": {
        "id": "EM7whBJCYoAo"
      }
    },
    {
      "cell_type": "code",
      "source": [
        "# from this chart we can understand the effect of location on price\n",
        "\n",
        "#grouping by according to location and price\n",
        "neighbour_ = air.groupby([\"location\"],as_index = False)[\"price\"].mean().sort_values(\"price\",ascending=False)\n",
        "\n",
        "plt.figure(figsize=(10,6))\n",
        "colors = [\"#69C6E8\", \"#69E8AC\", \"#D769E8\", \"#F880B5\", \"#89F882\"]\n",
        "effect = sns.barplot(x=neighbour_.location ,y=neighbour_.price ,palette=colors )         # giving 2 perameters on for x axis and y axis and then colors\n",
        "\n",
        "effect.bar_label(effect.containers[0])\n",
        "plt.show()\n",
        "\n"
      ],
      "metadata": {
        "id": "t6GMdE67YoAp"
      },
      "execution_count": null,
      "outputs": []
    },
    {
      "cell_type": "markdown",
      "source": [
        "##### 1. Why did you pick the specific chart?"
      ],
      "metadata": {
        "id": "fge-S5ZAYoAp"
      }
    },
    {
      "cell_type": "markdown",
      "source": [
        "***The main reason to choose bar plot is because i want to compare two categorical variable ***"
      ],
      "metadata": {
        "id": "5dBItgRVYoAp"
      }
    },
    {
      "cell_type": "markdown",
      "source": [
        "##### 2. What is/are the insight(s) found from the chart?"
      ],
      "metadata": {
        "id": "85gYPyotYoAp"
      }
    },
    {
      "cell_type": "markdown",
      "source": [
        "***According to the data we can see that the price of the listing of manhattan is around  50% more then the other location  we can say that manhattan  are mostly targeting guest  who are willing to pay more and priotizing luxury and willing to spend they are targeting weathly people on the other hand bronx has the lowest listing price soo they are targeting to lower class of society who doesnt spend alot on luxury  ***"
      ],
      "metadata": {
        "id": "4jstXR6OYoAp"
      }
    },
    {
      "cell_type": "markdown",
      "source": [
        "##### 3. Will the gained insights help creating a positive business impact?\n",
        "Are there any insights that lead to negative growth? Justify with specific reason."
      ],
      "metadata": {
        "id": "RoGjAbkUYoAp"
      }
    },
    {
      "cell_type": "markdown",
      "source": [
        "**High prices should be accompanied by high-quality accommodations and excellent customer service and manhattan main focus on customer satisfaction... thst why they set the prices higher then others***"
      ],
      "metadata": {
        "id": "zfJ8IqMcYoAp"
      }
    },
    {
      "cell_type": "markdown",
      "source": [
        "#### Chart - 4"
      ],
      "metadata": {
        "id": "4Of9eVA-YrdM"
      }
    },
    {
      "cell_type": "code",
      "source": [
        "# distribution of location according to mimimum nights\n",
        "\n",
        "min_ = air.groupby(\"location\")[[\"minimum_nights\"]].mean()          #grouping locataion according to minimum nights spend\n",
        "\n",
        "ex= [0,0,0.1,0,0]                                                  # perameter for explode function which  is used to slice it from piechart\n",
        "col = [\"#d45087\",\"#f95d6a\",\"#a05195\",\"#665191\",\"#7CDDDD\"]\n",
        "\n",
        "plt.pie(min_['minimum_nights'],labels=min_.index, colors =col,autopct='%1.1f%%',explode=ex,radius=1.2,wedgeprops={\"linewidth\":1,\"edgecolor\": 'r'})      #here i use min_.index because after using group by function column on which we make group become index\n",
        "plt.show()"
      ],
      "metadata": {
        "id": "irlUoxc8YrdO"
      },
      "execution_count": null,
      "outputs": []
    },
    {
      "cell_type": "markdown",
      "source": [
        "##### 2. What is/are the insight(s) found from the chart?"
      ],
      "metadata": {
        "id": "F6T5p64dYrdO"
      }
    },
    {
      "cell_type": "markdown",
      "source": [
        "***Out of total listing half of the people spends there night in manhattan and brooklyn ***"
      ],
      "metadata": {
        "id": "Xx8WAJvtYrdO"
      }
    },
    {
      "cell_type": "markdown",
      "source": [
        "##### 3. Will the gained insights help creating a positive business impact?\n",
        "Are there any insights that lead to negative growth? Justify with specific reason."
      ],
      "metadata": {
        "id": "y-Ehk30pYrdP"
      }
    },
    {
      "cell_type": "markdown",
      "source": [
        "***A higher demand for a particular location can lead to increased sales and revenue for businesses operating in that area ***"
      ],
      "metadata": {
        "id": "jLNxxz7MYrdP"
      }
    },
    {
      "cell_type": "markdown",
      "source": [
        "#### Chart - 5"
      ],
      "metadata": {
        "id": "bamQiAODYuh1"
      }
    },
    {
      "cell_type": "code",
      "source": [
        "# Longitude and latitude impact\n",
        "sns.scatterplot(data=air, x=\"latitude\", y=\"longitude\", hue=\"location\",)     # here hue is used to differnciate according to location\n",
        "\n",
        "\n",
        "\n",
        "plt.ylabel(\"longitude of the area\")                                         # setting xlabels\n",
        "plt.title(\"Distribution of area on basis of longitude and latitude\")        # setting y labels\n",
        "\n",
        "plt.show()\n"
      ],
      "metadata": {
        "id": "TIJwrbroYuh3"
      },
      "execution_count": null,
      "outputs": []
    },
    {
      "cell_type": "markdown",
      "source": [
        "##### 1. Why did you pick the specific chart?"
      ],
      "metadata": {
        "id": "QHF8YVU7Yuh3"
      }
    },
    {
      "cell_type": "markdown",
      "source": [
        "**I use scatter plot here beacuse scatter plot show correlation between 2 var soo it best suited here**"
      ],
      "metadata": {
        "id": "dcxuIMRPYuh3"
      }
    },
    {
      "cell_type": "markdown",
      "source": [
        "##### 2. What is/are the insight(s) found from the chart?"
      ],
      "metadata": {
        "id": "GwzvFGzlYuh3"
      }
    },
    {
      "cell_type": "markdown",
      "source": [
        "**From the above data we can clearly see that majority of the listing are between 40.6-40.8 latitude and -74 to -73.8 latitude**"
      ],
      "metadata": {
        "id": "uyqkiB8YYuh3"
      }
    },
    {
      "cell_type": "markdown",
      "source": [
        "##### 3. Will the gained insights help creating a positive business impact?\n",
        "Are there any insights that lead to negative growth? Justify with specific reason."
      ],
      "metadata": {
        "id": "qYpmQ266Yuh3"
      }
    },
    {
      "cell_type": "markdown",
      "source": [
        "**Location put a significant impact on the customer The choice of location can influence a business's success, profitability, and overall operations  The cost of operating a business can vary significantly depending on location. Factors such as rent, utilities, taxes, .**"
      ],
      "metadata": {
        "id": "_WtzZ_hCYuh4"
      }
    },
    {
      "cell_type": "markdown",
      "source": [
        "#### Chart - 6"
      ],
      "metadata": {
        "id": "OH-pJp9IphqM"
      }
    },
    {
      "cell_type": "code",
      "source": [
        "#just want to create a chart of top 5 host who are charging from every location\n",
        "\n",
        "plt.figure(figsize=(18, 7))\n",
        "# subplot 01\n",
        "\n",
        "plt.subplot(2,3,1)\n",
        "Manhattan = air[air[\"location\"] == \"Manhattan\"]\n",
        "max_prices_Manhattan=Manhattan.groupby(\"host_name\")[\"price\"].max().reset_index().sort_values(\"price\",ascending=False).head()\n",
        "sns.barplot(x=\"host_name\" ,y =\"price\" ,data = max_prices_Manhattan,color = 'steelblue')\n",
        "plt.title(\"Manhattan\")\n",
        "\n",
        "# subplot 02\n",
        "\n",
        "plt.subplot(2,3,2)\n",
        "Brooklyn = air[air[\"location\"] == \"Brooklyn\"]\n",
        "max_prices_Brooklyn =Brooklyn.groupby(\"host_name\")[\"price\"].max().reset_index().sort_values(\"price\",ascending=False).head()\n",
        "sns.barplot(x=\"host_name\" ,y =\"price\" ,data = max_prices_Brooklyn,color ='cyan')\n",
        "plt.title(\"Brooklyn\")\n",
        "\n",
        "# subplot 03\n",
        "\n",
        "plt.subplot(2,3,3)\n",
        "Bronx = air[air[\"location\"] == \"Bronx\"]\n",
        "max_prices_Bronx = Bronx.groupby(\"host_name\")[\"price\"].max().reset_index().sort_values(\"price\",ascending=False).head()\n",
        "sns.barplot(x=\"host_name\" ,y =\"price\" ,data = max_prices_Bronx,color =\"orange\")\n",
        "plt.title(\"Bronx\")\n",
        "\n",
        "# subplot 04\n",
        "\n",
        "plt.subplot(2,3,4)\n",
        "queen = air[air[\"location\"] == \"Queens\"]\n",
        "max_prices_queens= queen.groupby(\"host_name\")[\"price\"].max().reset_index().sort_values(\"price\",ascending=False).head()\n",
        "sns.barplot(x=\"host_name\" ,y =\"price\" ,data = max_prices_queens ,color = \"violet\")\n",
        "plt.title(\"Queen\")\n",
        "\n",
        "# subplot 05\n",
        "\n",
        "plt.subplot(2,3,5)\n",
        "Island = air[air[\"location\"] == \"Staten Island\"]\n",
        "max_prices_Staten_Island =Island.groupby(\"host_name\")[\"price\"].max().reset_index().sort_values(\"price\",ascending=False).head()\n",
        "sns.barplot(x=\"host_name\" ,y =\"price\" ,data = max_prices_Staten_Island,color='lightpink')\n",
        "plt.title(\"Staten island\")\n",
        "plt.tight_layout()\n",
        "\n",
        "plt.show()\n",
        "\n"
      ],
      "metadata": {
        "id": "kuRf4wtuphqN"
      },
      "execution_count": null,
      "outputs": []
    },
    {
      "cell_type": "markdown",
      "source": [
        "##### 1. Why did you pick the specific chart?"
      ],
      "metadata": {
        "id": "bbFf2-_FphqN"
      }
    },
    {
      "cell_type": "markdown",
      "source": [
        "##### 2. What is/are the insight(s) found from the chart?"
      ],
      "metadata": {
        "id": "_ouA3fa0phqN"
      }
    },
    {
      "cell_type": "markdown",
      "source": [
        "**From the chart i can clearly see that host in manhattan and brooklyn are charging higher then other places and host in bronx charging very less as compare to manhattan If budget is your primary concern, choosing the host in the Bronx or staten island**"
      ],
      "metadata": {
        "id": "VECbqPI7phqN"
      }
    },
    {
      "cell_type": "markdown",
      "source": [
        "##### 3. Will the gained insights help creating a positive business impact?\n",
        "Are there any insights that lead to negative growth? Justify with specific reason."
      ],
      "metadata": {
        "id": "Seke61FWphqN"
      }
    },
    {
      "cell_type": "markdown",
      "source": [
        "**The Bronx can attract people that prioritize affordability, especially middle class  of society With lower costs, businesses in the Bronx may have more room to invest in growth and expansion.**"
      ],
      "metadata": {
        "id": "DW4_bGpfphqN"
      }
    },
    {
      "cell_type": "markdown",
      "source": [
        "#### Chart - 7"
      ],
      "metadata": {
        "id": "PIIx-8_IphqN"
      }
    },
    {
      "cell_type": "code",
      "source": [
        "#  ploting Box plot using location and avilability of rooms\n",
        "\n",
        "sns.boxplot(data=air, x='location',y='availability_365',palette=\"deep\" ,notch =True, )     # notch function help us to differnciate in medain value\n",
        "plt.show()\n",
        "\n"
      ],
      "metadata": {
        "id": "lqAIGUfyphqO"
      },
      "execution_count": null,
      "outputs": []
    },
    {
      "cell_type": "markdown",
      "source": [
        "##### 2. What is/are the insight(s) found from the chart?"
      ],
      "metadata": {
        "id": "r2jJGEOYphqO"
      }
    },
    {
      "cell_type": "markdown",
      "source": [
        "**From the above data we can clearly see that average avilable room entire year in staten island and bronx is higher then other even though they they dont have large number of listing that clearly means that you can easily get listing in those places reather then brooklyn and manhattan**"
      ],
      "metadata": {
        "id": "Po6ZPi4hphqO"
      }
    },
    {
      "cell_type": "markdown",
      "source": [
        "##### 3. Will the gained insights help creating a positive business impact?\n",
        "Are there any insights that lead to negative growth? Justify with specific reason."
      ],
      "metadata": {
        "id": "b0JNsNcRphqO"
      }
    },
    {
      "cell_type": "markdown",
      "source": [
        "***The listing with more available rooms has the potential to generate higher revenue since it can accommodate more guests. This is especially beneficial during peak seasons when demand is high ***"
      ],
      "metadata": {
        "id": "xvSq8iUTphqO"
      }
    },
    {
      "cell_type": "markdown",
      "source": [
        "#### Chart - 8"
      ],
      "metadata": {
        "id": "BZR9WyysphqO"
      }
    },
    {
      "cell_type": "code",
      "source": [
        "#  Host with multiple listing\n",
        "\n",
        "\n",
        "host_name =air[\"host_name\"].value_counts()\n",
        "plt.figure(figsize=(20,8))                   # used for size of figure\n",
        "new=host_name[:20].plot(kind=\"bar\")          # here i used slicing to just show top 20 rows\n",
        "plt.title(\"Top 20 Host Names\",fontsize=16)\n",
        "\n",
        "plt.ylabel(\"Count\",fontsize=13)\n",
        "\n",
        "new.bar_label(new.containers[0])             # conatiner\n",
        "plt.show()\n",
        "\n",
        "\n",
        "\n"
      ],
      "metadata": {
        "id": "TdPTWpAVphqO"
      },
      "execution_count": null,
      "outputs": []
    },
    {
      "cell_type": "markdown",
      "source": [
        "##### 1. What is/are the insight(s) found from the chart?"
      ],
      "metadata": {
        "id": "eZrbJ2SmphqO"
      }
    },
    {
      "cell_type": "markdown",
      "source": [
        "*** From the above data we can see that which host is most commom of all.***"
      ],
      "metadata": {
        "id": "mZtgC_hjphqO"
      }
    },
    {
      "cell_type": "markdown",
      "source": [
        "##### 2. Will the gained insights help creating a positive business impact?\n",
        "Are there any insights that lead to negative growth? Justify with specific reason."
      ],
      "metadata": {
        "id": "rFu4xreNphqO"
      }
    },
    {
      "cell_type": "markdown",
      "source": [
        "**As the count of michel and david is more then other hosts that means the More listings from a single host can offer travelers a wider variety of accommodation options. This can attract different types of guests with varying preferences and budgets.Guests who are satisfied with one listing from a host may be more inclined to book another listing from the same host if they return to the area**"
      ],
      "metadata": {
        "id": "ey_0qi68phqO"
      }
    },
    {
      "cell_type": "markdown",
      "source": [
        "#### Chart - 9"
      ],
      "metadata": {
        "id": "AgPUml0y15JA"
      }
    },
    {
      "cell_type": "code",
      "source": [
        "#  Host and review comparison\n",
        "\n",
        "# grouping by according to host name and how much reviews they are getting\n",
        "\n",
        "plt.figure(figsize=(16,6))\n",
        "manhat=air.groupby(\"host_name\",)[\"number_of_reviews\"].sum().sort_values(ascending=False)    # here i am sorting number of reviews in ascending order\n",
        "manhat[:15].plot(kind=\"bar\",color =\"cyan\" ,)\n",
        "plt.show()\n",
        "\n"
      ],
      "metadata": {
        "id": "rKnJxeTe15JO"
      },
      "execution_count": null,
      "outputs": []
    },
    {
      "cell_type": "markdown",
      "source": [
        "##### 1. Why did you pick the specific chart?"
      ],
      "metadata": {
        "id": "H6PoRRuE15JP"
      }
    },
    {
      "cell_type": "markdown",
      "source": [
        "**To compare things between differnet host soo its best suited**"
      ],
      "metadata": {
        "id": "j9OVe7C_15JP"
      }
    },
    {
      "cell_type": "markdown",
      "source": [
        "##### 2. What is/are the insight(s) found from the chart?"
      ],
      "metadata": {
        "id": "7GvM2wpo15JP"
      }
    },
    {
      "cell_type": "markdown",
      "source": [
        "**From this we can see that  Michael and david gets reviews frequently then any others. The frequency of reviews can also indicate the customer's level of satisfaction or dissatisfaction**"
      ],
      "metadata": {
        "id": "Ty_hkT-015JP"
      }
    },
    {
      "cell_type": "markdown",
      "source": [
        "##### 3. Will the gained insights help creating a positive business impact?\n",
        "Are there any insights that lead to negative growth? Justify with specific reason."
      ],
      "metadata": {
        "id": "WWO-w5tY15JQ"
      }
    },
    {
      "cell_type": "markdown",
      "source": [
        "**Reviews are one of the most important thing for any organisation to work because with the help of the reviews host knows that what costomers are expecting from the host and his team .  with the help of this host can also make decisons for future outlook..leaving reviews to share their experiences, help in the growth of the business. and we can clearly see that popular host are getting most reviews  just only sonders(NYC) is not getting much reviews**"
      ],
      "metadata": {
        "id": "ncThZC-r15JQ"
      }
    },
    {
      "cell_type": "markdown",
      "source": [
        "#### Chart - 10"
      ],
      "metadata": {
        "id": "x-EpHcCOp1ci"
      }
    },
    {
      "cell_type": "code",
      "source": [
        "# which location getting most reviews per month\n",
        "\n",
        "final = air.groupby(\"location\",as_index=False)[['reviews_per_month']].max()\n",
        "\n",
        "\n",
        "ex = [0,0,0.1,0,0]\n",
        "color = ['#ff9999','#66b3ff','#99ff99','#ffcc99',\"#CE82FC\"]\n",
        "\n",
        "\n",
        "plt.pie(final['reviews_per_month'], labels=final['location'],autopct='%1.1f%%',explode=ex,colors=color,shadow=True)   # explode peramter is used to slice main value from pie and show is used to get shadow of chart\n",
        "plt.show()\n",
        "\n",
        "\n",
        "\n"
      ],
      "metadata": {
        "id": "mAQTIvtqp1cj"
      },
      "execution_count": null,
      "outputs": []
    },
    {
      "cell_type": "markdown",
      "source": [
        "##### 1. Why did you pick the specific chart?"
      ],
      "metadata": {
        "id": "X_VqEhTip1ck"
      }
    },
    {
      "cell_type": "markdown",
      "source": [
        "**As i wanna show the relative proportion of which location getting most reviews in amonth soo thats why i choose that chart**"
      ],
      "metadata": {
        "id": "-vsMzt_np1ck"
      }
    },
    {
      "cell_type": "markdown",
      "source": [
        "##### 2. What is/are the insight(s) found from the chart?"
      ],
      "metadata": {
        "id": "8zGJKyg5p1ck"
      }
    },
    {
      "cell_type": "markdown",
      "source": [
        "**From the above chart we can clearly see that more then 50% of total review in a monthy is about the manhattan soo that means customers engagement in manhattam is more then any other location**"
      ],
      "metadata": {
        "id": "ZYdMsrqVp1ck"
      }
    },
    {
      "cell_type": "markdown",
      "source": [
        "##### 3. Will the gained insights help creating a positive business impact?\n",
        "Are there any insights that lead to negative growth? Justify with specific reason."
      ],
      "metadata": {
        "id": "PVzmfK_Ep1ck"
      }
    },
    {
      "cell_type": "markdown",
      "source": [
        "**More reviews can signal higher demand for accommodations in that location Hosts in the location with more reviews may have a competitive advantage. They can potentially charge higher prices due to the high demand and positive reputation associated with the location**"
      ],
      "metadata": {
        "id": "druuKYZpp1ck"
      }
    },
    {
      "cell_type": "markdown",
      "source": [
        "#### Chart - 11"
      ],
      "metadata": {
        "id": "YJ55k-q6phqO"
      }
    },
    {
      "cell_type": "code",
      "source": [
        "plt.figure(figsize=(18, 7))   # overall size of chart\n",
        "\n",
        "# subplot_1  for (manhattan)\n",
        "\n",
        "plt.subplot(2, 3, 1)\n",
        "manhat=air[air[\"location\"]==\"Manhattan\"][\"host_name\"].value_counts().head(5)\n",
        "manhat.plot(kind=\"bar\",color=\"m\")\n",
        "plt.title(\"Manhattan\")\n",
        "plt.xlabel(\"host name\")\n",
        "\n",
        "# subplot_2 for (Brooklyn)\n",
        "\n",
        "\n",
        "plt.subplot(2, 3, 2)\n",
        "brook =air[air[\"location\"]==\"Brooklyn\"][\"host_name\"].value_counts().head(6)\n",
        "brook.plot(kind=\"bar\")\n",
        "plt.title(\"Brooklyn\")\n",
        "plt.xlabel(\"host name\")\n",
        "\n",
        "# subplot_3 for (Queens)\n",
        "\n",
        "\n",
        "plt.subplot(2, 3, 3)\n",
        "queen =air[air[\"location\"]==\"Queens\"][\"host_name\"].value_counts().head(6)\n",
        "queen.plot(kind=\"bar\",color=\"m\")\n",
        "plt.title(\"Queens\")\n",
        "plt.xlabel(\"host name\")\n",
        "\n",
        "# subplot_4 for (Staten)\n",
        "\n",
        "\n",
        "plt.subplot(2, 3, 4)\n",
        "staten = air[air[\"location\"]==\"Staten Island\"][\"host_name\"].value_counts().head(6)\n",
        "staten.plot(kind=\"bar\")\n",
        "plt.title(\"Staten island\")\n",
        "plt.xlabel(\"host name\")\n",
        "\n",
        "# subplot_5 for (Bronx)\n",
        "\n",
        "\n",
        "plt.subplot(2, 3, 5)\n",
        "bronx = air[air[\"location\"]==\"Bronx\"][\"host_name\"].value_counts().head(6)\n",
        "bronx.plot(kind=\"bar\",color=\"m\")\n",
        "plt.title(\"Bronx\")\n",
        "plt.xlabel(\"host name\")\n",
        "\n",
        "plt.tight_layout()        #it is used for the layout of all graphs and spacing\n",
        "\n",
        "plt.show()\n",
        "\n",
        "\n"
      ],
      "metadata": {
        "id": "B2aS4O1ophqO"
      },
      "execution_count": null,
      "outputs": []
    },
    {
      "cell_type": "markdown",
      "source": [
        "##### 1. What is/are the insight(s) found from the chart?"
      ],
      "metadata": {
        "id": "OVtJsKN_phqQ"
      }
    },
    {
      "cell_type": "markdown",
      "source": [
        "**From the analysis we can say that sonder(NYc) is geographically concentrated because he has properties only in manhattan wherase david and michael  and  jhon has a diversified listing has property all over the places**"
      ],
      "metadata": {
        "id": "ngGi97qjphqQ"
      }
    },
    {
      "cell_type": "markdown",
      "source": [
        "##### 2. Will the gained insights help creating a positive business impact?\n",
        "Are there any insights that lead to negative growth? Justify with specific reason."
      ],
      "metadata": {
        "id": "lssrdh5qphqQ"
      }
    },
    {
      "cell_type": "markdown",
      "source": [
        "**As the sonder have listing only in manhattan he is concentrated only to one place moreover other are less dependent on the performance of a single location they are diversified having more then one location give compiative advantage from others person with multiple locations lower risk of business disruption due to regional events or disasters.**"
      ],
      "metadata": {
        "id": "tBpY5ekJphqQ"
      }
    },
    {
      "cell_type": "markdown",
      "source": [
        "#### Chart - 12"
      ],
      "metadata": {
        "id": "Ag9LCva-p1cl"
      }
    },
    {
      "cell_type": "code",
      "source": [
        "# Distribution of price of top 100 listing by names\n",
        "\n",
        "x=air.groupby(\"name\",as_index=False)[[\"price\"]].max().sort_values(\"price\",ascending=False).head(200)\n",
        "\n",
        "\n",
        "plt.figure(figsize=(10, 8))\n",
        "plt.hist(x[\"price\"], bins=20, edgecolor='k',)\n",
        "# plt.xlabel(\"price\")\n",
        "plt.ylabel(\"Frequency\")\n",
        "plt.title(\"price distribution of top 300 listing\")\n",
        "plt.grid()\n",
        "plt.show()\n",
        "\n",
        "\n"
      ],
      "metadata": {
        "id": "EUfxeq9-p1cl"
      },
      "execution_count": null,
      "outputs": []
    },
    {
      "cell_type": "markdown",
      "source": [
        "##### 1. What is/are the insight(s) found from the chart?"
      ],
      "metadata": {
        "id": "2cELzS2fp1cl"
      }
    },
    {
      "cell_type": "markdown",
      "source": [
        "**From the above chart we can see the distribution of the price as most of the people prefer the listing below 3000 and frequancy of the price below 2000 is more then overall**"
      ],
      "metadata": {
        "id": "ozQPc2_Ip1cl"
      }
    },
    {
      "cell_type": "markdown",
      "source": [
        "#### Chart - 13 - Correlation Heatmap"
      ],
      "metadata": {
        "id": "NC_X3p0fY2L0"
      }
    },
    {
      "cell_type": "code",
      "source": [
        "# Correlation Heatmap visualization code\n",
        "corr = air.corr(method='spearman',)\n",
        "plt.figure(figsize=(11,9))\n",
        "plt.title(\"Correlation Between Different Variables\\n\")\n",
        "cmap=\"Blues\"\n",
        "sns.heatmap(corr, annot=True,cmap=cmap)\n",
        "plt.show()"
      ],
      "metadata": {
        "id": "xyC9zolEZNRQ"
      },
      "execution_count": null,
      "outputs": []
    },
    {
      "cell_type": "markdown",
      "source": [
        "## **5. Solution to Business Objective**"
      ],
      "metadata": {
        "id": "crDGUubyPD4h"
      }
    },
    {
      "cell_type": "markdown",
      "source": [
        "#### What do you suggest the client to achieve Business Objective ?"
      ],
      "metadata": {
        "id": "7kZGn2hgPH8k"
      }
    },
    {
      "cell_type": "markdown",
      "source": [
        "* As most of the listing are present in Manhatan and Brooklyn we should also focused on the other location which can help in rise in the revenue for the future.\n",
        "* Bronx and staten island has most number of avilable rooms soo they can attract customers by giving some discount or by using some marketing statergy.\n",
        "* As the sonder(NYC) have listing only in manhattan he is concentrated only to one place soo its risk for him for any disater and events in aperticular location soo he should diversified his listing to other places\n",
        "* Most of the host are inclined toward Manhattan and Brooklyn because of there higher prices. soo we should ask for higher % in profit.\n",
        "\n",
        "\n",
        "\n"
      ],
      "metadata": {
        "id": "YK_50qlzPkwO"
      }
    },
    {
      "cell_type": "markdown",
      "source": [
        "# **Conclusion**"
      ],
      "metadata": {
        "id": "gCX9965dhzqZ"
      }
    },
    {
      "cell_type": "markdown",
      "source": [
        "* We find out that the manhattan and brooklyn has the most number of listing and people prefers private rooms over other but in manhattan they prefer entire appartment\n",
        "* We find out that hillside hotels ,home away from home and NY multi unit building has most number of branches\n",
        "* People are willing to pay 50% more for for manhattan listing then other listings\n",
        "* Majority of people are willing to spends there night in manhattan and brooklyn\n",
        "* latitudes and logitude plays a cruical roll for a business.\n",
        "* Its easy to get a room in staten island and bronax rather  then manhattan and brooklyn in peak season beacause of avilability of room .\n",
        "* Michel david and sonders are most popular host of all but sonders has all listing in only manhattan michel and david has diversifed listings.\n",
        "* Manhattan is the location where people are willing to post most number of reviews and michel and david getting highest number of reviews. so we can say reviews are directly related to popularity. only sonders(NYC) is famous but still not getting ample amount of reviews\n",
        "* Majority of people willing to pay under 3000 USD for a listing.\n",
        "\n",
        "\n",
        "\n",
        "\n",
        "\n",
        "\n",
        "\n",
        "\n",
        "\n",
        "\n"
      ],
      "metadata": {
        "id": "Fjb1IsQkh3yE"
      }
    },
    {
      "cell_type": "markdown",
      "source": [
        "### ***Hurrah! You have successfully completed your EDA Capstone Project !!!***"
      ],
      "metadata": {
        "id": "gIfDvo9L0UH2"
      }
    }
  ]
}