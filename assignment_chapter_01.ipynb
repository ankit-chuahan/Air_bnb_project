{
  "cells": [
    {
      "cell_type": "markdown",
      "metadata": {
        "id": "view-in-github",
        "colab_type": "text"
      },
      "source": [
        "<a href=\"https://colab.research.google.com/github/ankit-chuahan/Air_bnb_project/blob/main/assignment_chapter_01.ipynb\" target=\"_parent\"><img src=\"https://colab.research.google.com/assets/colab-badge.svg\" alt=\"Open In Colab\"/></a>"
      ]
    },
    {
      "cell_type": "markdown",
      "metadata": {
        "id": "ui1utgq5bDbx"
      },
      "source": [
        "# **newww**"
      ]
    },
    {
      "cell_type": "code",
      "execution_count": null,
      "metadata": {
        "colab": {
          "base_uri": "https://localhost:8080/"
        },
        "id": "OTgMftgMdvhD",
        "outputId": "38bbbfbd-f9c0-41a4-d07f-9564902e04d9"
      },
      "outputs": [
        {
          "output_type": "stream",
          "name": "stdout",
          "text": [
            "king\n",
            "kingly\n"
          ]
        }
      ],
      "source": [
        "string_=input()\n",
        "def new(string_):\n",
        "  if len(string_)>=3:\n",
        "    return (string_ + 'ly')\n",
        "  elif string_[-3:]=='ing':\n",
        "      return (string_)\n",
        "  else:\n",
        "    return (string_)\n",
        "final=new(string_)\n",
        "print(final)"
      ]
    },
    {
      "cell_type": "code",
      "execution_count": null,
      "metadata": {
        "colab": {
          "base_uri": "https://localhost:8080/"
        },
        "id": "B8ZV6ZxLlgis",
        "outputId": "235ad50c-156c-44d5-df13-c13fe4370715"
      },
      "outputs": [
        {
          "output_type": "stream",
          "name": "stdout",
          "text": [
            "may\n",
            "28/29 days\n"
          ]
        }
      ],
      "source": [
        "month_name= input()\n",
        "def number_of_days(month_name):\n",
        "  if month_name == ('january', 'March', 'May' ,'July','August', 'October' ,'December'):\n",
        "    return(\"31 Days\")\n",
        "  elif month_name== ['April' ,'June' ,'September' , 'November']:\n",
        "    return (\"30 Days\")\n",
        "  else:\n",
        "    return(\"28/29 days\")\n",
        "final = number_of_days(month_name)\n",
        "print(final)"
      ]
    },
    {
      "cell_type": "code",
      "execution_count": null,
      "metadata": {
        "colab": {
          "base_uri": "https://localhost:8080/"
        },
        "id": "5sq-2QGsP1vq",
        "outputId": "495947fc-32ae-4c1b-fdbc-2b09f52a24fc"
      },
      "outputs": [
        {
          "name": "stdout",
          "output_type": "stream",
          "text": [
            "32.142857142857146\n"
          ]
        }
      ],
      "source": [
        "#assignment_question_02\n",
        "\n",
        "#Calculate the percentage of raisins and print the variable\n",
        "\n",
        "rasin = 45\n",
        "apricot = 30\n",
        "almonds = 65\n",
        "rasin_percent =  45/(45+30+65) *100\n",
        "print(rasin_percent)\n",
        "\n",
        "\n"
      ]
    },
    {
      "cell_type": "code",
      "execution_count": null,
      "metadata": {
        "colab": {
          "base_uri": "https://localhost:8080/"
        },
        "id": "3jMAkQCQQews",
        "outputId": "71e7ef55-5b4b-4e2c-b79a-9a80f641a672"
      },
      "outputs": [
        {
          "name": "stdout",
          "output_type": "stream",
          "text": [
            "46.42857142857143\n"
          ]
        }
      ],
      "source": [
        "#Calculate the percentage of almonds and print the variable\n",
        "\n",
        "\n",
        "rasin = 45\n",
        "apricot = 30\n",
        "almonds = 65\n",
        "total  = rasin+apricot+almonds\n",
        "almond_percent = almonds/total *100\n",
        "print(almond_percent)"
      ]
    },
    {
      "cell_type": "code",
      "execution_count": null,
      "metadata": {
        "colab": {
          "base_uri": "https://localhost:8080/"
        },
        "id": "IrmYoJcNRFPg",
        "outputId": "e2710143-60f8-471f-a5ca-86a3e9babe85"
      },
      "outputs": [
        {
          "name": "stdout",
          "output_type": "stream",
          "text": [
            "21.428571428571427\n"
          ]
        }
      ],
      "source": [
        "#Calculate the percentage of apricot and print the variable\n",
        "\n",
        "\n",
        "\n",
        "rasin = 45\n",
        "apricot = 30\n",
        "almonds = 65\n",
        "total  = rasin+apricot+almonds\n",
        "apricot_percent = apricot/total *100\n",
        "print(apricot_percent)"
      ]
    },
    {
      "cell_type": "code",
      "execution_count": null,
      "metadata": {
        "id": "Aly36tpdPuVo"
      },
      "outputs": [],
      "source": []
    },
    {
      "cell_type": "code",
      "execution_count": null,
      "metadata": {
        "colab": {
          "base_uri": "https://localhost:8080/"
        },
        "id": "yeQh1isI0_ig",
        "outputId": "40d773a6-472c-41c1-f56d-7556e7f1cd68"
      },
      "outputs": [
        {
          "name": "stdout",
          "output_type": "stream",
          "text": [
            "83.33333333333334\n"
          ]
        }
      ],
      "source": [
        "#assignment_question_03\n",
        "\n",
        "total_patients = 100\n",
        "diabetes_patients = 30\n",
        "heart_disease = 45\n",
        "cancer = 25\n",
        "\n",
        "detected_diabetes =25\n",
        "detected_hearts_diseases = 35\n",
        "detected_cancer  = 20\n",
        "\n",
        "first_round = detected_diabetes / diabetes_patients *100\n",
        "\n",
        "print(first_round)\n"
      ]
    },
    {
      "cell_type": "code",
      "execution_count": null,
      "metadata": {
        "colab": {
          "base_uri": "https://localhost:8080/"
        },
        "id": "aknaWppG4ODT",
        "outputId": "7a916e79-852e-469f-b047-fca28d2b9972"
      },
      "outputs": [
        {
          "name": "stdout",
          "output_type": "stream",
          "text": [
            "77.77777777777779\n"
          ]
        }
      ],
      "source": [
        "second_round = detected_hearts_diseases / heart_disease *100\n",
        "\n",
        "print(second_round)"
      ]
    },
    {
      "cell_type": "code",
      "execution_count": null,
      "metadata": {
        "colab": {
          "base_uri": "https://localhost:8080/"
        },
        "id": "b__ULp5u5pxF",
        "outputId": "5fe67916-c576-49b0-882f-2363b292f315"
      },
      "outputs": [
        {
          "name": "stdout",
          "output_type": "stream",
          "text": [
            "80.0\n"
          ]
        }
      ],
      "source": [
        "third_round = detected_cancer / cancer *100\n",
        " print(third_round)"
      ]
    },
    {
      "cell_type": "code",
      "execution_count": null,
      "metadata": {
        "colab": {
          "base_uri": "https://localhost:8080/"
        },
        "id": "7ICMe30j8cAH",
        "outputId": "47be9215-85c3-403d-b2d8-013fb30825fc"
      },
      "outputs": [
        {
          "name": "stdout",
          "output_type": "stream",
          "text": [
            "ee\n"
          ]
        }
      ],
      "source": [
        "str_ = \"enemy\"\n",
        "\n",
        "def new_(str_):\n",
        "    result = \"\"\n",
        "    for i in range(len(str_)):\n",
        "        if str_[i] == \"e\":\n",
        "            result += str_[i]\n",
        "    return result\n",
        "\n",
        "final = new_(str_)\n",
        "print(final)\n",
        "\n",
        "\n"
      ]
    },
    {
      "cell_type": "code",
      "execution_count": null,
      "metadata": {
        "colab": {
          "base_uri": "https://localhost:8080/"
        },
        "id": "eAZhefTu6BoA",
        "outputId": "eed7eee9-f395-4831-d8b0-d9e99b489a67"
      },
      "outputs": [
        {
          "name": "stdout",
          "output_type": "stream",
          "text": [
            "80.0\n"
          ]
        }
      ],
      "source": [
        "overall_accuracy = (detected_diabetes + detected_hearts_diseases + detected_cancer )/total_patients *100\n",
        "print(overall_accuracy)"
      ]
    },
    {
      "cell_type": "code",
      "execution_count": null,
      "metadata": {
        "colab": {
          "base_uri": "https://localhost:8080/"
        },
        "id": "UVI9RlQq5byl",
        "outputId": "4c337ab5-68c8-4198-fce4-67fb00ec70a6"
      },
      "outputs": [
        {
          "data": {
            "text/plain": [
              "[3, 1, 4, 1, 5, 9, 2, 6, 5, 3]"
            ]
          },
          "execution_count": 6,
          "metadata": {},
          "output_type": "execute_result"
        }
      ],
      "source": [
        "my_list = [3, 1, 4, 1, 5, 9, 2, 6, 5, 3]\n",
        "# my_list.sort()\n",
        "my_list\n",
        "# sorted(my_list)\n",
        "# my_list"
      ]
    },
    {
      "cell_type": "code",
      "execution_count": null,
      "metadata": {
        "colab": {
          "base_uri": "https://localhost:8080/"
        },
        "id": "nfL0zcrmA5oi",
        "outputId": "8aa01aff-cfc6-4d50-b5e6-699595e620dc"
      },
      "outputs": [
        {
          "name": "stdout",
          "output_type": "stream",
          "text": [
            "----->\n",
            "['pepperoni', 'mushrooms', 'olives', 'sausage', 'bacon', 'peppers']\n"
          ]
        }
      ],
      "source": [
        "toppings = [\"pepperoni\", \"mushrooms\", \"olives\", \"sausage\"]\n",
        "new_toppings = [\"bacon\", \"peppers\", \"pineapple\"]\n",
        "# for topping in new_toppings:\n",
        "#   toppings.append(topping)\n",
        "#   print(toppings)\n",
        "# print(toppings)\n",
        "toppings.extend(new_toppings[0:2])\n",
        "print(\"----->\")\n",
        "print(toppings)"
      ]
    },
    {
      "cell_type": "code",
      "execution_count": null,
      "metadata": {
        "colab": {
          "base_uri": "https://localhost:8080/"
        },
        "id": "8tJoB_feQ4ZR",
        "outputId": "a41c2278-232b-40c4-8d8c-b3a31b088181"
      },
      "outputs": [
        {
          "name": "stdout",
          "output_type": "stream",
          "text": [
            "!dlroW ,olleH\n"
          ]
        }
      ],
      "source": [
        "my_string = \"Hello, World!\"\n",
        "reverse_string =\"\"\n",
        "i = len(my_string)-1\n",
        "\n",
        "while i>=0:\n",
        "  reverse_string +=my_string[i]\n",
        "  i-=1\n",
        "print(reverse_string)"
      ]
    },
    {
      "cell_type": "code",
      "execution_count": null,
      "metadata": {
        "id": "IsmLDow2TrZR"
      },
      "outputs": [],
      "source": [
        "numbers = [12, 7, 8, 15, 20, 10, 45]\n",
        "largest_even =1\n",
        "# for number in numbers:\n",
        "#   if number%2==0 and number>largest_even:\n",
        "#     largest_even = number\n",
        "#     print(largest_even)\n",
        "# print(largest_even)\n",
        "\n",
        "\n",
        "\n",
        "i = 0\n",
        "while i>len(numbers):\n",
        "  number = numbers[i]\n",
        "  if number %2==0 and number>largest_even:\n",
        "    largest_even = number\n",
        "    print(largest_even)\n",
        "    i+=1\n",
        "\n",
        "\n",
        "\n",
        "\n",
        "\n"
      ]
    },
    {
      "cell_type": "code",
      "execution_count": null,
      "metadata": {
        "colab": {
          "base_uri": "https://localhost:8080/"
        },
        "id": "K3DtLu4MepNu",
        "outputId": "4fde64f0-4c22-410c-dbc1-9308dfd8f6dd"
      },
      "outputs": [
        {
          "data": {
            "text/plain": [
              "117"
            ]
          },
          "execution_count": 4,
          "metadata": {},
          "output_type": "execute_result"
        }
      ],
      "source": [
        "numbers = [12, 7, 8, 15, 20, 10, 45]\n",
        "len(numbers)\n",
        "sum(numbers)"
      ]
    },
    {
      "cell_type": "code",
      "execution_count": null,
      "metadata": {
        "colab": {
          "base_uri": "https://localhost:8080/"
        },
        "id": "L1c2UFbeYyaY",
        "outputId": "2d7222f6-2e75-4641-fd55-a8463c879f97"
      },
      "outputs": [
        {
          "name": "stdout",
          "output_type": "stream",
          "text": [
            "enter any number 45\n",
            "enter any number 54\n",
            "the number of 5 in between 100 and 150 5\n"
          ]
        }
      ],
      "source": [
        "strt_num = int(input(\"enter any number \"))\n",
        "end_num =int(input(\"enter any number \"))\n",
        "count = 0\n",
        "for i in range(strt_num,end_num):\n",
        "  if str(5) in str(i):\n",
        "    count+=1\n",
        "  else:\n",
        "    count+=0\n",
        "\n",
        "print(\"the number of 5 in between 100 and 150\",count)"
      ]
    },
    {
      "cell_type": "code",
      "execution_count": null,
      "metadata": {
        "colab": {
          "base_uri": "https://localhost:8080/"
        },
        "id": "fopvXn_IxUp8",
        "outputId": "f366f365-ec44-43be-ff04-6fcc7f4398cf"
      },
      "outputs": [
        {
          "name": "stdout",
          "output_type": "stream",
          "text": [
            "December\n",
            "31 Days\n"
          ]
        }
      ],
      "source": [
        "\n",
        "\n"
      ]
    },
    {
      "cell_type": "code",
      "execution_count": null,
      "metadata": {
        "id": "8UprTG86U9wA"
      },
      "outputs": [],
      "source": [
        "import random\n",
        "max_tries = 3\n",
        "tries =0\n",
        "secret_number = random.randint(1, 3)\n",
        "while tries != max_tries :\n",
        "  number  = int(input(\"enter the number you guess\"))\n",
        "  tries+=1\n",
        "  if number == secret_number:\n",
        "   print(\"congratulations you guess a corrct number \")\n",
        "   break\n",
        "\n",
        "  elif number > secret_number:\n",
        "    print(\"the number you guess is more then the secreat number \")\n",
        "\n",
        "  elif number< secret_number :\n",
        "      print(\"the number you guess is less then the secret number\")\n",
        "\n",
        "\n",
        "\n",
        "\n",
        "if  number == secret_number:\n",
        "          print(f\"congatulations,you guess the correct number in,{tries} tries\",tries)\n",
        "else:\n",
        "              print(\"you did not guess the correct number ,the correct number is \",secret_number)\n",
        "\n",
        "\n",
        "\n",
        "\n",
        "\n"
      ]
    },
    {
      "cell_type": "code",
      "execution_count": null,
      "metadata": {
        "colab": {
          "base_uri": "https://localhost:8080/"
        },
        "id": "qIKnSefIlvMt",
        "outputId": "6d37ab81-c7d9-405d-b581-2149ac643b98"
      },
      "outputs": [
        {
          "name": "stdout",
          "output_type": "stream",
          "text": [
            "127\n"
          ]
        }
      ],
      "source": [
        "my_list = [12,45,127,23,34,89]\n",
        "\n",
        "def max (my_list):\n",
        "  max_value = 0\n",
        "  for num in my_list:\n",
        "    if num > max_value :\n",
        "      max_value = num\n",
        "    else:\n",
        "      max_value = max_value\n",
        "  return max_value\n",
        "print(max(my_list))"
      ]
    },
    {
      "cell_type": "code",
      "execution_count": null,
      "metadata": {
        "colab": {
          "base_uri": "https://localhost:8080/"
        },
        "id": "rr83lUMXFdr9",
        "outputId": "21bb924e-3625-4c7a-8727-04fd68ace413"
      },
      "outputs": [
        {
          "name": "stdout",
          "output_type": "stream",
          "text": [
            "[  0  11  22  33  44  55  66  77  88  99 110 121 133 144 155 166 177 188\n",
            " 199 210 221 232 243 255]\n",
            "[[  0  11  22  33  44  55]\n",
            " [ 66  77  88  99 110 121]\n",
            " [133 144 155 166 177 188]\n",
            " [199 210 221 232 243 255]]\n"
          ]
        }
      ],
      "source": [
        "import pandas as pd\n",
        "import numpy as np\n",
        "\n",
        "num_layers = 4\n",
        "num_features = 6\n",
        "min_value = 0\n",
        "max_value = 255\n",
        "\n",
        "final = np.linspace(min_value,max_value ,24, dtype=int)\n",
        "print(final)\n",
        "new = final.reshape(4,6)\n",
        "print(new)"
      ]
    },
    {
      "cell_type": "code",
      "execution_count": null,
      "metadata": {
        "colab": {
          "base_uri": "https://localhost:8080/"
        },
        "id": "ilBCHb2GwzCB",
        "outputId": "3c0e572d-cc5a-411d-bf9e-c39a8b5c0559"
      },
      "outputs": [
        {
          "name": "stdout",
          "output_type": "stream",
          "text": [
            "      name  Age\n",
            "0    ankit   27\n",
            "1  srishti   24\n",
            "2    pawan   30\n",
            "3    mansi   22\n",
            "4   sonika   23\n",
            "5   arshil    4\n"
          ]
        }
      ],
      "source": [
        "import pandas as pd\n",
        "\n",
        "\n",
        "pd_f = pd.DataFrame({'name':['ankit','srishti','pawan','mansi','sonika','arshil'],\"Age\":[27,24,30,22,23,4]})\n",
        "print(pd_f)"
      ]
    },
    {
      "cell_type": "markdown",
      "metadata": {
        "id": "gQBt00nZTufq"
      },
      "source": [
        "# activity"
      ]
    },
    {
      "cell_type": "code",
      "execution_count": null,
      "metadata": {
        "colab": {
          "base_uri": "https://localhost:8080/"
        },
        "id": "LWSRg4rWSwdm",
        "outputId": "965691d8-4513-40b8-82be-6fa4fcc12ab9"
      },
      "outputs": [
        {
          "name": "stdout",
          "output_type": "stream",
          "text": [
            "19\n"
          ]
        }
      ],
      "source": [
        "won = 6\n",
        "lost = 2\n",
        "drew = 1\n",
        "wins_p =3\n",
        "loss_p = 0\n",
        "Draw_p = 1\n",
        "total_point = won * wins_p + lost * loss_p + drew * Draw_p\n",
        "print(total_point)"
      ]
    },
    {
      "cell_type": "code",
      "execution_count": null,
      "metadata": {
        "colab": {
          "base_uri": "https://localhost:8080/"
        },
        "id": "tw07LY3YT07B",
        "outputId": "ddcc5b34-09b8-4ea6-f5f9-26e0010d0984"
      },
      "outputs": [
        {
          "name": "stdout",
          "output_type": "stream",
          "text": [
            "What are your favorite colors? green\n",
            "Your favorite colors are: ['g', 'r', 'e', 'e', 'n']\n"
          ]
        }
      ],
      "source": [
        "colors = list(input(\"What are your favorite colors? \"))\n",
        "print(\"Your favorite colors are:\", colors)"
      ]
    },
    {
      "cell_type": "code",
      "execution_count": null,
      "metadata": {
        "colab": {
          "base_uri": "https://localhost:8080/"
        },
        "id": "P4UgDt_ocQNV",
        "outputId": "302479f8-4edc-484f-c65f-b20970597e3f"
      },
      "outputs": [
        {
          "name": "stdout",
          "output_type": "stream",
          "text": [
            "1,2,3,4,5,6,7,8,9,10\n",
            "2\n",
            "[0, 2, 4, 6, 8]\n"
          ]
        }
      ],
      "source": [
        "lst = eval(input())\n",
        "n = int(input())\n",
        "\n",
        "\n",
        "for i in range(len(lst)):\n",
        "\n",
        "  if i%2==0:\n",
        "    list.append(i)\n",
        "print(list)"
      ]
    },
    {
      "cell_type": "code",
      "execution_count": null,
      "metadata": {
        "colab": {
          "base_uri": "https://localhost:8080/"
        },
        "id": "nBVSa8rPc-sF",
        "outputId": "2931cf94-7065-4bfd-ae5c-006d0841c72e"
      },
      "outputs": [
        {
          "name": "stdout",
          "output_type": "stream",
          "text": [
            "0\n"
          ]
        }
      ],
      "source": [
        "list_ =[1, 2, -8, 0]\n",
        "\n",
        "for i in range(len(list_ )):\n",
        "\n",
        "  minimum = 0\n",
        "  if list_[i] < minimum:\n",
        "    minimum = list_[i]\n",
        "  else:\n",
        "    minimum= minimum\n",
        "\n",
        "print(minimum)"
      ]
    },
    {
      "cell_type": "code",
      "execution_count": null,
      "metadata": {
        "id": "ZdtnPM2ThiN_"
      },
      "outputs": [],
      "source": []
    },
    {
      "cell_type": "code",
      "execution_count": null,
      "metadata": {
        "colab": {
          "base_uri": "https://localhost:8080/"
        },
        "id": "Hlui8fHcy58A",
        "outputId": "a416b702-8eb4-4ba2-ad1b-d5ee8cfc60c0"
      },
      "outputs": [
        {
          "name": "stdout",
          "output_type": "stream",
          "text": [
            "[\"Red\",\"Green\",\"White\" ,\"Black\"]\n",
            "First color: Red\n",
            "Last color: Black\n"
          ]
        }
      ],
      "source": [
        "color_list = eval(input())\n",
        "\n",
        "\n",
        "first_color = color_list[0]\n",
        "print(\"First color:\", first_color)\n",
        "\n",
        "last_color = color_list[-1]\n",
        "print(\"Last color:\", last_color)"
      ]
    },
    {
      "cell_type": "code",
      "execution_count": null,
      "metadata": {
        "colab": {
          "base_uri": "https://localhost:8080/"
        },
        "id": "8cF_mHsez5Ra",
        "outputId": "d3e34679-62a8-4004-87fe-5d1afae18363"
      },
      "outputs": [
        {
          "name": "stdout",
          "output_type": "stream",
          "text": [
            "25\n"
          ]
        }
      ],
      "source": [
        "x= 25\n",
        "y=15\n",
        "z=35\n",
        "\n",
        "if x > y and x < z :\n",
        "  print(x)\n",
        "elif x > z and  z > y:\n",
        "  print(z)\n",
        "elif y > x and  y < z:\n",
        "  print(y)\n",
        "elif y > z and x > y :\n",
        "  print(y)\n",
        "elif z > y and y < x:\n",
        "  print(x)\n",
        "\n",
        "elif z > x and  z < y:\n",
        "  print(z)\n"
      ]
    },
    {
      "cell_type": "code",
      "execution_count": null,
      "metadata": {
        "colab": {
          "base_uri": "https://localhost:8080/"
        },
        "id": "uBAGn5CrD41C",
        "outputId": "7cc85266-dfdd-46f0-da7f-6c3bf97f7f43"
      },
      "outputs": [
        {
          "name": "stdout",
          "output_type": "stream",
          "text": [
            "[2, 4, 6, 8, 10]\n"
          ]
        }
      ],
      "source": [
        "def get_every_nth_element(input_list, n):\n",
        "    if n == 0:\n",
        "        return \"Invalid value of n\"\n",
        "\n",
        "    return input_list[n-1::n]\n",
        "\n",
        "my_list = [1, 2, 3, 4, 5, 6, 7, 8, 9, 10]\n",
        "n = 2\n",
        "\n",
        "result = get_every_nth_element(my_list, n)\n",
        "print(result)\n"
      ]
    },
    {
      "cell_type": "code",
      "execution_count": null,
      "metadata": {
        "colab": {
          "base_uri": "https://localhost:8080/"
        },
        "id": "Hdo-6hbwz6ky",
        "outputId": "6738ecfa-c093-40db-d1cc-089f45dc8fe9"
      },
      "outputs": [
        {
          "name": "stdout",
          "output_type": "stream",
          "text": [
            "[1, 2, 3, 0]\n",
            "['Red', 'Green', 'Black']\n",
            "None\n"
          ]
        }
      ],
      "source": [
        "list1 = eval(input())\n",
        "list2 = eval(input())\n",
        "final = list1.extend(list2)\n",
        "print"
      ]
    },
    {
      "cell_type": "code",
      "execution_count": null,
      "metadata": {
        "colab": {
          "base_uri": "https://localhost:8080/"
        },
        "id": "tz2ZkHFl1R66",
        "outputId": "559feb30-90ba-4b01-e489-d34d5bcae14a"
      },
      "outputs": [
        {
          "name": "stdout",
          "output_type": "stream",
          "text": [
            "[1, 2, 3, 0]\n",
            "['Red', 'Green', 'Black']\n",
            "[1, 2, 3, 0, ['Red', 'Green', 'Black'], ['Red', 'Green', 'Black'], ['Red', 'Green', 'Black']]\n"
          ]
        }
      ],
      "source": [
        "list1 = eval(input())\n",
        "list2 = eval(input())\n",
        "for items in list2:\n",
        "  list1.append(list2)\n",
        "print(list1)"
      ]
    },
    {
      "cell_type": "code",
      "execution_count": null,
      "metadata": {
        "colab": {
          "base_uri": "https://localhost:8080/"
        },
        "id": "PHI3avIt1-vv",
        "outputId": "79449349-6b44-4dec-9dfc-99bdc6998884"
      },
      "outputs": [
        {
          "name": "stdout",
          "output_type": "stream",
          "text": [
            "[2, 3, 4, 5]\n",
            "1\n",
            "True\n",
            "True\n",
            "True\n",
            "True\n"
          ]
        }
      ],
      "source": [
        "\n",
        "\n",
        "number_list = eval(input())\n",
        "number = int(input())\n",
        "for allnum in number_list:\n",
        "\n",
        "  if allnum > number:\n",
        "    print(\"True\")\n"
      ]
    },
    {
      "cell_type": "code",
      "execution_count": null,
      "metadata": {
        "colab": {
          "base_uri": "https://localhost:8080/"
        },
        "id": "lUuybwWu4cu6",
        "outputId": "d38e4b3a-e93e-42e1-b476-449e4cd3c17b"
      },
      "outputs": [
        {
          "name": "stdout",
          "output_type": "stream",
          "text": [
            "Scalene triangle\n"
          ]
        }
      ],
      "source": [
        "s1 = 6\n",
        "s2 = 8\n",
        "s3 = 12\n",
        "if s1 != s2 and  s2 != s3 and s1!=s3:\n",
        "  print(\"Scalene triangle\")"
      ]
    },
    {
      "cell_type": "code",
      "execution_count": null,
      "metadata": {
        "colab": {
          "base_uri": "https://localhost:8080/"
        },
        "id": "gfkjkELA8Acn",
        "outputId": "6d836f8f-a8af-4dc1-dfda-b92b9bc4d045"
      },
      "outputs": [
        {
          "name": "stdout",
          "output_type": "stream",
          "text": [
            "data scientist\n",
            "{'d': 1, 'a': 2, 't': 3, ' ': 1, 's': 2, 'c': 1, 'i': 2, 'e': 1, 'n': 1}\n"
          ]
        }
      ],
      "source": [
        "strng = input()\n",
        "empty_dict = {}\n",
        "for char in strng:\n",
        "  if char in empty_dict:\n",
        "    empty_dict[char]+=1\n",
        "  else:\n",
        "    empty_dict[char]=1\n",
        "\n",
        "print(empty_dict)\n"
      ]
    },
    {
      "cell_type": "code",
      "execution_count": null,
      "metadata": {
        "colab": {
          "base_uri": "https://localhost:8080/",
          "height": 140
        },
        "id": "WzGZdPxmVLyX",
        "outputId": "4ba29bcc-6010-4181-d0a8-71dea8908c92"
      },
      "outputs": [
        {
          "ename": "SyntaxError",
          "evalue": "ignored",
          "output_type": "error",
          "traceback": [
            "\u001b[0;36m  File \u001b[0;32m\"<ipython-input-46-258f5d5dd592>\"\u001b[0;36m, line \u001b[0;32m3\u001b[0m\n\u001b[0;31m    final = [color for color in list_ if color  not in list_2']\u001b[0m\n\u001b[0m                                                             ^\u001b[0m\n\u001b[0;31mSyntaxError\u001b[0m\u001b[0;31m:\u001b[0m unterminated string literal (detected at line 3)\n"
          ]
        }
      ],
      "source": [
        "list_ = eval(input())\n",
        "list_2 =eval(input())\n",
        "final = [x for x in list_2 if x  not in list_]\n",
        "print(final)"
      ]
    },
    {
      "cell_type": "code",
      "execution_count": null,
      "metadata": {
        "colab": {
          "base_uri": "https://localhost:8080/"
        },
        "id": "kfDRlYVSn3hI",
        "outputId": "c0c4a51c-e3a2-4d58-9a28-37515c2ac0f4"
      },
      "outputs": [
        {
          "name": "stdout",
          "output_type": "stream",
          "text": [
            "12\n",
            "45\n",
            "the sum of 12 and 45 is  57\n"
          ]
        }
      ],
      "source": [
        "# Question 1: Write a Python program that takes two numbers as input and prints their sum\n",
        "num_1 = int(input())\n",
        "num_2 = int(input())\n",
        "sum = num_1 + num_2\n",
        "print(f\"the sum of {num_1} and {num_2} is \",sum)"
      ]
    },
    {
      "cell_type": "code",
      "execution_count": null,
      "metadata": {
        "colab": {
          "base_uri": "https://localhost:8080/"
        },
        "id": "EC4uh2rzoT64",
        "outputId": "fd09d003-1529-4873-f785-0ce9947d3549"
      },
      "outputs": [
        {
          "name": "stdout",
          "output_type": "stream",
          "text": [
            "9\n",
            "the number 9 is even\n"
          ]
        }
      ],
      "source": [
        "# Question 2: Write a Python program that checks if a given number is prime or not.\n",
        "num = int(input())\n",
        "if num % 2 == 0:\n",
        "  print(f\"the number {num} is\"  ,\"odd\")\n",
        "else:\n",
        "  print(f\"the number {num} is\"  ,\"even\")"
      ]
    },
    {
      "cell_type": "code",
      "execution_count": null,
      "metadata": {
        "colab": {
          "base_uri": "https://localhost:8080/"
        },
        "id": "uf0xkdCfpfVH",
        "outputId": "e5dd677a-ca43-4767-e114-9a7e6f08de1b"
      },
      "outputs": [
        {
          "name": "stdout",
          "output_type": "stream",
          "text": [
            "34\n",
            "67\n",
            "50.5\n"
          ]
        }
      ],
      "source": [
        "# num = int(input())\n",
        "# num_2 =int(input())\n",
        "# reminder = num % num_2\n",
        "# print(f\"if we divide {num} from {num_2} we get reminder as\",reminder)\n",
        "\n",
        "num_1 = int(input())\n",
        "num_2 =int(input())\n",
        "average = (num_1 + num_2 )/ 2\n",
        "print(average)"
      ]
    },
    {
      "cell_type": "code",
      "execution_count": null,
      "metadata": {
        "colab": {
          "base_uri": "https://localhost:8080/"
        },
        "id": "AzadloVpvNK6",
        "outputId": "0d311c24-2cf1-4003-c55a-94f564ef43d5"
      },
      "outputs": [
        {
          "name": "stdout",
          "output_type": "stream",
          "text": [
            "12\n",
            "144\n"
          ]
        }
      ],
      "source": [
        "num_1 = int(input())\n",
        "square_num = num_1 **2\n",
        "print(square_num)"
      ]
    },
    {
      "cell_type": "code",
      "execution_count": null,
      "metadata": {
        "colab": {
          "base_uri": "https://localhost:8080/"
        },
        "id": "F6x4yHGmy7Zk",
        "outputId": "5325e0ad-33f4-440f-97d0-d1e2cf7ed0fa"
      },
      "outputs": [
        {
          "name": "stdout",
          "output_type": "stream",
          "text": [
            "[\"Apple\",\"Mango\",\"Grapes\",\"Orange\",\"Kiwi\",\"Banana\"]\n",
            "['Apple', 'Mango', 'Grapes', 'Orange', 'Kiwi', 'Banana']\n"
          ]
        }
      ],
      "source": [
        "list_1 = eval(input())\n",
        "print(list_1)"
      ]
    },
    {
      "cell_type": "code",
      "execution_count": null,
      "metadata": {
        "colab": {
          "base_uri": "https://localhost:8080/"
        },
        "id": "kPpDGXAe50MD",
        "outputId": "0cef3063-0217-45d7-b393-b43f33b3f33f"
      },
      "outputs": [
        {
          "name": "stdout",
          "output_type": "stream",
          "text": [
            "apple\n",
            "mango\n",
            "grapes\n",
            "orange\n",
            "kiwi\n",
            "banana\n",
            "papaya\n",
            "['apple', 'mango', 'grapes', 'orange', 'kiwi', 'banana', 'papaya']\n"
          ]
        }
      ],
      "source": [
        "f1 = input()\n",
        "f2 = input()\n",
        "f3 = input()\n",
        "f4 = input()\n",
        "f5 = input()\n",
        "f6 = input()\n",
        "f7 = input()\n",
        "neww = [f1,f2,f3,f4,f5,f6,f7]\n",
        "print(neww)"
      ]
    },
    {
      "cell_type": "code",
      "execution_count": null,
      "metadata": {
        "id": "aarrI9yn6xPJ"
      },
      "outputs": [],
      "source": [
        "marks = eval(input())\n",
        "final = marks.sorted()\n",
        "print(final)"
      ]
    },
    {
      "cell_type": "code",
      "execution_count": null,
      "metadata": {
        "colab": {
          "base_uri": "https://localhost:8080/"
        },
        "id": "P_Q68TfQbmSm",
        "outputId": "eed3dee8-6a6c-4f24-ab4f-34d8327a3374"
      },
      "outputs": [
        {
          "name": "stdout",
          "output_type": "stream",
          "text": [
            "RADAR\n",
            "This is palindrom\n"
          ]
        }
      ],
      "source": [
        "string_ = input()\n",
        "def check_pallendriom(string_):\n",
        "  return string_==string_[::-1]\n",
        "answer = check_pallendriom(string_)\n",
        "if answer is True:\n",
        "  print(\"This is palindrom\")\n",
        "else:\n",
        "  print(\"This is not palindrom\")"
      ]
    },
    {
      "cell_type": "code",
      "execution_count": null,
      "metadata": {
        "colab": {
          "base_uri": "https://localhost:8080/"
        },
        "id": "tZ1yq-pRiFqW",
        "outputId": "617d6d9d-13b4-486f-f796-01a164ad716f"
      },
      "outputs": [
        {
          "name": "stdout",
          "output_type": "stream",
          "text": [
            "{1, 2, 3, 4, 5, 6}\n"
          ]
        }
      ],
      "source": [
        "list_ = [1,2,3,4,1,3,5,6]\n",
        "def delete_duplicate(list_):\n",
        "  return set(list_)\n",
        "print(delete_duplicate(list_))"
      ]
    },
    {
      "cell_type": "code",
      "execution_count": null,
      "metadata": {
        "colab": {
          "base_uri": "https://localhost:8080/"
        },
        "id": "BnMEIDIai7f6",
        "outputId": "7b170f74-5a3a-4967-db33-27a7db463189"
      },
      "outputs": [
        {
          "data": {
            "text/plain": [
              "13"
            ]
          },
          "execution_count": 32,
          "metadata": {},
          "output_type": "execute_result"
        }
      ],
      "source": [
        "def fibonacci(n):\n",
        "  if n <=1:\n",
        "    return  n\n",
        "  else:\n",
        "   return fibonacci(n-1) + fibonacci(n-2)\n",
        "fibonacci(7)\n",
        "\n"
      ]
    },
    {
      "cell_type": "code",
      "execution_count": null,
      "metadata": {
        "colab": {
          "base_uri": "https://localhost:8080/"
        },
        "id": "idKqpqVQVau3",
        "outputId": "b201293d-d46b-4ab1-8d38-20b4aee3483a"
      },
      "outputs": [
        {
          "name": "stdout",
          "output_type": "stream",
          "text": [
            "1\n",
            "2\n"
          ]
        }
      ],
      "source": [
        "i = 1\n",
        "while True:\n",
        "\n",
        "  if i%3==0:\n",
        "   break\n",
        "  print(i)\n",
        "  i+=1"
      ]
    },
    {
      "cell_type": "code",
      "execution_count": null,
      "metadata": {
        "colab": {
          "base_uri": "https://localhost:8080/"
        },
        "id": "DVHEXYefeTny",
        "outputId": "f9626b37-7d5e-4fa7-e2f6-ccb7462cd75f"
      },
      "outputs": [
        {
          "name": "stdout",
          "output_type": "stream",
          "text": [
            "5\n"
          ]
        }
      ],
      "source": [
        "x=5\n",
        "y=x\n",
        "x+=2\n",
        "print(y)"
      ]
    },
    {
      "cell_type": "code",
      "execution_count": null,
      "metadata": {
        "colab": {
          "base_uri": "https://localhost:8080/"
        },
        "id": "WQTiOAceiorn",
        "outputId": "723984b4-012b-4802-b0a4-93d8aba664be"
      },
      "outputs": [
        {
          "name": "stdout",
          "output_type": "stream",
          "text": [
            "0 a\n",
            "1 n\n",
            "2 k\n",
            "3 i\n",
            "4 t\n",
            "5  \n",
            "6 c\n",
            "7 h\n",
            "8 a\n",
            "9 u\n",
            "10 h\n",
            "11 a\n",
            "12 n\n",
            "13  \n",
            "14 h\n",
            "15 y\n",
            "16 e\n",
            "17 y\n",
            "18 y\n",
            "------->>>>>\n",
            "<<<<<--------\n",
            "18 y\n",
            "17 y\n",
            "16 e\n",
            "15 y\n",
            "14 h\n",
            "13  \n",
            "12 n\n",
            "11 a\n",
            "10 h\n",
            "9 u\n",
            "8 a\n",
            "7 h\n",
            "6 c\n",
            "5  \n",
            "4 t\n",
            "3 i\n",
            "2 k\n",
            "1 n\n",
            "0 a\n"
          ]
        }
      ],
      "source": [
        "name = 'ankit chauhan hyeyy'\n",
        "\n",
        "for i in range (len(name)):\n",
        "  print(i,name[i])\n",
        "print('------->>>>>')\n",
        "print('<<<<<--------')\n",
        "for i in range (len(name)-1,-1,-1):\n",
        "  print(i,name[i])"
      ]
    },
    {
      "cell_type": "code",
      "execution_count": null,
      "metadata": {
        "colab": {
          "base_uri": "https://localhost:8080/"
        },
        "id": "HS7nGMc4emqq",
        "outputId": "71dbc4b5-b1ea-4c8b-eaf6-7e64aec3703e"
      },
      "outputs": [
        {
          "name": "stdout",
          "output_type": "stream",
          "text": [
            "10 newww__\n",
            "9 newww__\n",
            "8 newww__\n",
            "7 newww__\n",
            "6 newww__\n",
            "5 newww__\n",
            "4 newww__\n",
            "3 newww__\n",
            "2 newww__\n",
            "1 newww__\n",
            "0\n"
          ]
        }
      ],
      "source": [
        "i = 10\n",
        "while i >=1:\n",
        "\n",
        "  print(i,'newww__')\n",
        "  i=i-1\n",
        "print(i)  #last_value"
      ]
    },
    {
      "cell_type": "code",
      "execution_count": null,
      "metadata": {
        "colab": {
          "base_uri": "https://localhost:8080/"
        },
        "id": "04csnWnEaseU",
        "outputId": "190e01c6-d9ab-47fc-920c-3e7da31e4350"
      },
      "outputs": [
        {
          "name": "stdout",
          "output_type": "stream",
          "text": [
            "1 ankit\n",
            "2 ankit\n",
            "3 ankit\n",
            "4 ankit\n",
            "5 ankit\n",
            "6 ankit\n",
            "7 ankit\n",
            "8 ankit\n",
            "9 ankit\n",
            "10 ankit\n",
            "last value 11\n"
          ]
        }
      ],
      "source": [
        "i = 1\n",
        "while i<=10:\n",
        "  print(i,'ankit')\n",
        "  i = i+1\n",
        "print('last value',i)"
      ]
    },
    {
      "cell_type": "code",
      "execution_count": null,
      "metadata": {
        "colab": {
          "base_uri": "https://localhost:8080/"
        },
        "id": "WMCpgEcOWXaQ",
        "outputId": "5ebb6ddf-0b9f-4a68-8e3f-d3b7b78cbfce"
      },
      "outputs": [
        {
          "name": "stdout",
          "output_type": "stream",
          "text": [
            "2 * 1 = 2\n",
            "2 * 2 = 4\n",
            "2 * 3 = 6\n",
            "2 * 4 = 8\n",
            "2 * 5 = 10\n",
            "2 * 6 = 12\n",
            "2 * 7 = 14\n",
            "2 * 8 = 16\n",
            "2 * 9 = 18\n",
            "2 * 10 = 20\n",
            "--->>>> <<<<-----\n",
            "2 * 1 = 3\n",
            "2 * 2 = 6\n",
            "2 * 3 = 9\n",
            "2 * 4 = 12\n",
            "2 * 5 = 15\n",
            "2 * 6 = 18\n",
            "2 * 7 = 21\n",
            "2 * 8 = 24\n",
            "2 * 9 = 27\n",
            "2 * 10 = 30\n"
          ]
        }
      ],
      "source": [
        "for x in range(1,11):\n",
        "    print('2','*',x,'=',2*x)\n",
        "\n",
        "print('--->>>>','<<<<-----')\n",
        "\n",
        "for x in range(1,11):\n",
        "    print('2','*',x,'=',3*x)"
      ]
    },
    {
      "cell_type": "code",
      "execution_count": null,
      "metadata": {
        "colab": {
          "base_uri": "https://localhost:8080/"
        },
        "id": "araZ-Z7mmIqz",
        "outputId": "fefedeb3-11bc-440e-bb84-f9522635c059"
      },
      "outputs": [
        {
          "name": "stdout",
          "output_type": "stream",
          "text": [
            "123 5\n",
            "False\n"
          ]
        }
      ],
      "source": [
        "new = input()\n",
        "# print(new.isalpha())  True for alphabets for space its fasle\n",
        "print(new.isdigit()) #True for num only\n",
        "# print(new.isalnum()) #True for alpha and num space is also a sepcial character"
      ]
    },
    {
      "cell_type": "code",
      "execution_count": null,
      "metadata": {
        "colab": {
          "base_uri": "https://localhost:8080/"
        },
        "id": "vvoT5Y-EnH1T",
        "outputId": "958eeeb9-f10f-4022-c5fc-445dc474a96e"
      },
      "outputs": [
        {
          "name": "stdout",
          "output_type": "stream",
          "text": [
            "The unicode chatacter of 67 is :- C\n",
            "The ASCII value of A is 65\n"
          ]
        }
      ],
      "source": [
        "a = 67\n",
        "print(f\"The unicode chatacter of {a} is :-\",chr(a))\n",
        "a='A'\n",
        "print(f\"The ASCII value of {a} is\",ord(a))"
      ]
    },
    {
      "cell_type": "code",
      "execution_count": null,
      "metadata": {
        "colab": {
          "base_uri": "https://localhost:8080/"
        },
        "id": "Xbb1QfDQkiJV",
        "outputId": "f58f4276-f611-4e73-dd62-2704655a06ae"
      },
      "outputs": [
        {
          "name": "stdout",
          "output_type": "stream",
          "text": [
            "1 40\n",
            "2 30\n",
            "3 20\n",
            "4 10\n"
          ]
        }
      ],
      "source": [
        "x =[1,2,3,4]\n",
        "y =[40,30,20,10,50]\n",
        "# for a,b in zip(x,y):\n",
        "#   print(a,b)\n",
        "\n",
        "for a in range(len(x)):\n",
        "  print(x[a],y[a])"
      ]
    },
    {
      "cell_type": "code",
      "execution_count": null,
      "metadata": {
        "colab": {
          "base_uri": "https://localhost:8080/"
        },
        "id": "PEssSibGmTY_",
        "outputId": "bf0d525a-b239-45c1-979a-62e1563e9a5a"
      },
      "outputs": [
        {
          "name": "stdout",
          "output_type": "stream",
          "text": [
            "hey anki how are ou doing\n",
            "['hey', 'anki', 'how', 'are', 'ou', 'doing']\n"
          ]
        }
      ],
      "source": [
        "n= input()\n",
        "final = n.split()\n",
        "print(final)"
      ]
    },
    {
      "cell_type": "code",
      "execution_count": null,
      "metadata": {
        "colab": {
          "base_uri": "https://localhost:8080/"
        },
        "id": "VN-xyDBCoPJc",
        "outputId": "724b3faa-d047-4b09-81a4-2acefae0c054"
      },
      "outputs": [
        {
          "name": "stdout",
          "output_type": "stream",
          "text": [
            "enter the value1he\n",
            "enter the value2is\n",
            "enter the value3ood\n",
            "['he', 'is', 'ood']\n"
          ]
        }
      ],
      "source": [
        "empty_list=[]\n",
        "for i in range (1,4):\n",
        "  string_ = input(\"enter the value\" + gstr(i) )\n",
        "  empty_list.append(string_)\n",
        "print(empty_list)"
      ]
    },
    {
      "cell_type": "code",
      "execution_count": null,
      "metadata": {
        "colab": {
          "base_uri": "https://localhost:8080/"
        },
        "id": "5Ypv9JXpyQUv",
        "outputId": "ea7ab1c2-f0af-40d5-f29e-fc5aac0ee21d"
      },
      "outputs": [
        {
          "name": "stdout",
          "output_type": "stream",
          "text": [
            " \n",
            "                      1 push element\n",
            "                      2 pop element\n",
            "                      3 peek element\n",
            "                      4 Display elemnt\n",
            "                      5 exit stack\n",
            "  1\n",
            "enter the number \n",
            "23\n",
            "[23]\n",
            " \n",
            "                      1 push element\n",
            "                      2 pop element\n",
            "                      3 peek element\n",
            "                      4 Display elemnt\n",
            "                      5 exit stack\n",
            "  1\n",
            "enter the number \n",
            "45\n",
            "[23, 45]\n",
            " \n",
            "                      1 push element\n",
            "                      2 pop element\n",
            "                      3 peek element\n",
            "                      4 Display elemnt\n",
            "                      5 exit stack\n",
            "  1\n",
            "enter the number \n",
            "65\n",
            "[23, 45, 65]\n",
            " \n",
            "                      1 push element\n",
            "                      2 pop element\n",
            "                      3 peek element\n",
            "                      4 Display elemnt\n",
            "                      5 exit stack\n",
            "  2\n",
            "45\n",
            "[23, 65]\n",
            " \n",
            "                      1 push element\n",
            "                      2 pop element\n",
            "                      3 peek element\n",
            "                      4 Display elemnt\n",
            "                      5 exit stack\n",
            "  5\n"
          ]
        }
      ],
      "source": [
        "Creating a stack\n",
        "\n",
        "empty_stack =[]\n",
        "while True:\n",
        "  operation =int(input('''\n",
        "                      1 push element\n",
        "                      2 pop element\n",
        "                      3 peek element\n",
        "                      4 Display elemnt\n",
        "                      5 exit stack\n",
        "  '''))\n",
        "\n",
        "  if operation == 1 :\n",
        "    num = int(input(\"enter the number \\n\"))\n",
        "    empty_stack.append(num)\n",
        "    print(empty_stack)\n",
        "\n",
        "  elif operation == 2 :\n",
        "    if len(empty_stack)==0:\n",
        "      print(\"empty stack\")\n",
        "    else:\n",
        "      poped = empty_stack.pop()\n",
        "      print(poped)\n",
        "      print(empty_stack)\n",
        "\n",
        "  elif operation == 3:\n",
        "    if len(empty_stack)==0:\n",
        "      print(\"empty stack\")\n",
        "    else :\n",
        "      print(\"The peek element is : \\n\" ,empty_stack[-1])\n",
        "\n",
        "  elif operation == 4:\n",
        "    print(\"The displayed stack is:-\",empty_stack)\n",
        "\n",
        "  elif operation==5:\n",
        "    break\n",
        "  else:\n",
        "    print(\"invalid operation\")"
      ]
    },
    {
      "cell_type": "code",
      "execution_count": null,
      "metadata": {
        "colab": {
          "base_uri": "https://localhost:8080/"
        },
        "id": "-b3Rmi004qsB",
        "outputId": "4edcb2fc-1ffc-481d-deff-3dd1e05e1ca3"
      },
      "outputs": [
        {
          "name": "stdout",
          "output_type": "stream",
          "text": [
            "\n",
            "                      1 push element\n",
            "                      2 pop element\n",
            "                      3 front element\n",
            "                      4 Last element\n",
            "                      5 Display Queue\n",
            "                      6 exit Queue\n",
            "  1\n",
            "enter the number \n",
            "126\n",
            "[126]\n",
            "\n",
            "                      1 push element\n",
            "                      2 pop element\n",
            "                      3 front element\n",
            "                      4 Last element\n",
            "                      5 Display Queue\n",
            "                      6 exit Queue\n",
            "  1\n",
            "enter the number \n",
            "216\n",
            "[126, 216]\n",
            "\n",
            "                      1 push element\n",
            "                      2 pop element\n",
            "                      3 front element\n",
            "                      4 Last element\n",
            "                      5 Display Queue\n",
            "                      6 exit Queue\n",
            "  1\n",
            "enter the number \n",
            "210\n",
            "[126, 216, 210]\n",
            "\n",
            "                      1 push element\n",
            "                      2 pop element\n",
            "                      3 front element\n",
            "                      4 Last element\n",
            "                      5 Display Queue\n",
            "                      6 exit Queue\n",
            "  2\n",
            "poped element is :- 126\n",
            "[216, 210]\n",
            "\n",
            "                      1 push element\n",
            "                      2 pop element\n",
            "                      3 front element\n",
            "                      4 Last element\n",
            "                      5 Display Queue\n",
            "                      6 exit Queue\n",
            "  3\n",
            "The first element Queue is : \n",
            " 216\n",
            "\n",
            "                      1 push element\n",
            "                      2 pop element\n",
            "                      3 front element\n",
            "                      4 Last element\n",
            "                      5 Display Queue\n",
            "                      6 exit Queue\n",
            "  4\n",
            "The last element of Queue is : \n",
            " 210\n",
            "\n",
            "                      1 push element\n",
            "                      2 pop element\n",
            "                      3 front element\n",
            "                      4 Last element\n",
            "                      5 Display Queue\n",
            "                      6 exit Queue\n",
            "  5\n",
            "The displayed Queue is:- [216, 210]\n",
            "\n",
            "                      1 push element\n",
            "                      2 pop element\n",
            "                      3 front element\n",
            "                      4 Last element\n",
            "                      5 Display Queue\n",
            "                      6 exit Queue\n",
            "  6\n"
          ]
        }
      ],
      "source": [
        "\n",
        "# Creating a Queue\n",
        "\n",
        "empty_queue =[]\n",
        "while True:\n",
        "  operation =int(input('''\n",
        "                      1 push element\n",
        "                      2 pop element\n",
        "                      3 front element\n",
        "                      4 Last element\n",
        "                      5 Display Queue\n",
        "                      6 exit Queue\n",
        "  '''))\n",
        "\n",
        "  if operation == 1 :\n",
        "    num = int(input(\"enter the number \\n\"))\n",
        "    empty_queue.append(num)\n",
        "    print(empty_queue)\n",
        "\n",
        "\n",
        "  elif operation == 2 :\n",
        "    if len(empty_queue)==0:\n",
        "      print(\"empty_queue\")\n",
        "    else:\n",
        "      poped = empty_queue.pop(0)\n",
        "      print(\"poped element is :-\",poped)\n",
        "      print(empty_queue)\n",
        "\n",
        "\n",
        "  elif operation == 3:\n",
        "    if len(empty_queue)==0:\n",
        "      print(\"empty_queue\")\n",
        "    else :\n",
        "      print(\"The first element Queue is : \\n\" ,empty_queue[0])\n",
        "\n",
        "\n",
        "  elif operation == 4:\n",
        "    if len(empty_queue)==0:\n",
        "      print(\"empty_queue\")\n",
        "    else :\n",
        "      print(\"The last element of Queue is : \\n\" ,empty_queue[-1])\n",
        "\n",
        "\n",
        "  elif operation == 5:\n",
        "    print(\"The displayed Queue is:-\",empty_queue)\n",
        "\n",
        "\n",
        "\n",
        "  elif operation==6:\n",
        "    break\n",
        "  else:\n",
        "    print(\"invalid operation\")"
      ]
    },
    {
      "cell_type": "markdown",
      "metadata": {
        "id": "xD8KpDhggykL"
      },
      "source": [
        "# **Quick program**"
      ]
    },
    {
      "cell_type": "code",
      "execution_count": null,
      "metadata": {
        "id": "SNLeh0pPg2M9"
      },
      "outputs": [],
      "source": [
        "x= 13\n",
        "y=12\n",
        "temp = x\n",
        "x = y\n",
        "y=temp"
      ]
    },
    {
      "cell_type": "code",
      "execution_count": null,
      "metadata": {
        "colab": {
          "base_uri": "https://localhost:8080/"
        },
        "id": "D4FOg3tNhIlW",
        "outputId": "d0b8f62e-e180-4185-de73-d881cd2bd237"
      },
      "outputs": [
        {
          "name": "stdout",
          "output_type": "stream",
          "text": [
            "12\n",
            "13\n"
          ]
        }
      ],
      "source": [
        "print(x)\n",
        "print(y)"
      ]
    },
    {
      "cell_type": "code",
      "execution_count": null,
      "metadata": {
        "id": "I36HTfCxhetg"
      },
      "outputs": [],
      "source": [
        "x,y=y,x"
      ]
    },
    {
      "cell_type": "code",
      "execution_count": null,
      "metadata": {
        "colab": {
          "base_uri": "https://localhost:8080/"
        },
        "id": "t88wMkohhhOr",
        "outputId": "a20233ea-c535-4cc7-e2ee-41dce2501e07"
      },
      "outputs": [
        {
          "name": "stdout",
          "output_type": "stream",
          "text": [
            "13\n"
          ]
        }
      ],
      "source": [
        "print(x)"
      ]
    },
    {
      "cell_type": "code",
      "execution_count": null,
      "metadata": {
        "colab": {
          "base_uri": "https://localhost:8080/"
        },
        "id": "RtiJmVQ-iNPD",
        "outputId": "9631bb0d-4dc7-4a00-91bc-dd05fe6a8e4d"
      },
      "outputs": [
        {
          "name": "stdout",
          "output_type": "stream",
          "text": [
            "5\n",
            "3.106855\n"
          ]
        }
      ],
      "source": [
        "km = float(input())\n",
        "miles = km*0.621371\n",
        "print(miles)"
      ]
    },
    {
      "cell_type": "code",
      "execution_count": null,
      "metadata": {
        "colab": {
          "base_uri": "https://localhost:8080/"
        },
        "id": "mJK4la1_i2gq",
        "outputId": "c9de7fa0-7127-4382-f196-aac5c85ddc1b"
      },
      "outputs": [
        {
          "name": "stdout",
          "output_type": "stream",
          "text": [
            "0\n"
          ]
        }
      ],
      "source": [
        "num = float(input())\n",
        "if num > 0:\n",
        "  print(\"postive\")\n",
        "elif num < 0 :\n",
        "  print(\"negative\")\n",
        "else:\n",
        "  \"zero\""
      ]
    },
    {
      "cell_type": "code",
      "execution_count": null,
      "metadata": {
        "colab": {
          "base_uri": "https://localhost:8080/"
        },
        "id": "ID_zMfxwji3y",
        "outputId": "c6c0e52e-e95d-4941-b9ca-fccf36a10736"
      },
      "outputs": [
        {
          "name": "stdout",
          "output_type": "stream",
          "text": [
            "368\n",
            "Even\n"
          ]
        }
      ],
      "source": [
        "num = int(input())\n",
        "if num % 2==0 :\n",
        "  print('Even')\n",
        "else:\n",
        "  print('Odd' )"
      ]
    },
    {
      "cell_type": "code",
      "execution_count": null,
      "metadata": {
        "colab": {
          "base_uri": "https://localhost:8080/"
        },
        "id": "4lqAwUkukoJY",
        "outputId": "82203a4f-3e3a-4620-c2e5-458c27c50d44"
      },
      "outputs": [
        {
          "name": "stdout",
          "output_type": "stream",
          "text": [
            "1994\n",
            "Non leap year\n"
          ]
        }
      ],
      "source": [
        "year = int(input())\n",
        "if year % 400 == 0 and year % 100 ==0 :\n",
        "\n",
        "  print(\"leap year\")\n",
        "elif   year % 4==0 and year % 100 !=0 :\n",
        "  print(\"Leap Year\")\n",
        "else:\n",
        "  print(\"Non leap year\")"
      ]
    },
    {
      "cell_type": "code",
      "execution_count": null,
      "metadata": {
        "id": "NZYiLB3KmmHo"
      },
      "outputs": [],
      "source": [
        "n1= int(input())\n",
        "n2= int(input())\n",
        "n3= int(input())\n",
        "\n",
        "if n1>n2:\n",
        "  if n1>n3:\n",
        "    print(n1)\n",
        "  else:\n",
        "    print(n3)\n",
        "else:\n",
        "  if n2>n3:\n",
        "    print(n2)\n",
        "  else:\n",
        "    print(n3)\n"
      ]
    },
    {
      "cell_type": "code",
      "execution_count": null,
      "metadata": {
        "colab": {
          "base_uri": "https://localhost:8080/"
        },
        "id": "iGPPGdhEoPJm",
        "outputId": "1b456f43-cfa5-466e-ae93-b47fc0369987"
      },
      "outputs": [
        {
          "name": "stdout",
          "output_type": "stream",
          "text": [
            "8\n",
            "14\n",
            "56\n",
            "56\n"
          ]
        }
      ],
      "source": [
        "n1= int(input())\n",
        "n2= int(input())\n",
        "n3= int(input())\n",
        "biggest_num= max(n1,n2,n3)\n",
        "print(biggest_num)"
      ]
    },
    {
      "cell_type": "code",
      "execution_count": null,
      "metadata": {
        "colab": {
          "base_uri": "https://localhost:8080/"
        },
        "id": "zfBqXENwp8YN",
        "outputId": "313a4f79-019c-4981-8496-3bd128824406"
      },
      "outputs": [
        {
          "name": "stdout",
          "output_type": "stream",
          "text": [
            "enter any number21\n",
            "Not a prime\n"
          ]
        }
      ],
      "source": [
        "num = int(input(\"enter any number\"))\n",
        "if num ==1:\n",
        "  print(\"This is not prime\")\n",
        "elif num==2:\n",
        "  print(\"Its a prime\")\n",
        "\n",
        "else:\n",
        "   if num > 2 :\n",
        "    for i in range(2,num):\n",
        "      if num % i ==0 :\n",
        "          print(\"Not a prime\")\n",
        "          break\n",
        "\n",
        "    else:\n",
        "        print(\"Its a prime\")"
      ]
    },
    {
      "cell_type": "code",
      "execution_count": null,
      "metadata": {
        "colab": {
          "base_uri": "https://localhost:8080/"
        },
        "id": "IPpb9RL2uUqa",
        "outputId": "8525208d-0a81-4153-f894-3f163a0fa14e"
      },
      "outputs": [
        {
          "name": "stdout",
          "output_type": "stream",
          "text": [
            "0.7280331799418882\n"
          ]
        }
      ],
      "source": [
        "import random\n",
        "# random=random.randint(1,5)\n",
        "# print(random)\n",
        "print(random.random())"
      ]
    },
    {
      "cell_type": "code",
      "execution_count": null,
      "metadata": {
        "colab": {
          "base_uri": "https://localhost:8080/"
        },
        "id": "3d18upZSNS3b",
        "outputId": "dedb93b6-ff28-4540-cef6-d3f1a96d9291"
      },
      "outputs": [
        {
          "output_type": "stream",
          "name": "stdout",
          "text": [
            "1\n",
            "20\n",
            "2\n",
            "3\n",
            "5\n",
            "7\n",
            "11\n",
            "13\n",
            "17\n",
            "19\n"
          ]
        }
      ],
      "source": [
        "lower_limit=int(input())\n",
        "upper_limit =int(input())\n",
        "for num in range (lower_limit,upper_limit+1):\n",
        "      if num ==1:\n",
        "        continue\n",
        "      elif num > 1:\n",
        "        for i in range (2,num):\n",
        "          if num % i ==0:\n",
        "            break\n",
        "        else:\n",
        "          print(num)"
      ]
    },
    {
      "cell_type": "code",
      "execution_count": null,
      "metadata": {
        "colab": {
          "base_uri": "https://localhost:8080/"
        },
        "id": "Ha_NHIFtTLC-",
        "outputId": "73da8f82-9d8a-4f88-d11c-f3598d604953"
      },
      "outputs": [
        {
          "name": "stdout",
          "output_type": "stream",
          "text": [
            "50\n",
            "50 Calcius temp is equal to 122.0 Fahrenheit\n"
          ]
        }
      ],
      "source": [
        "calculus_temp =int(input())\n",
        "farh_temp = calculus_temp * (9/5) +32\n",
        "print(calculus_temp,\"Calcius temp is equal to\",farh_temp,\"Fahrenheit\")"
      ]
    },
    {
      "cell_type": "code",
      "execution_count": null,
      "metadata": {
        "colab": {
          "base_uri": "https://localhost:8080/"
        },
        "id": "bigaxnc6UKGY",
        "outputId": "4b9c59e6-3790-4a9e-8cc8-f7e059615971"
      },
      "outputs": [
        {
          "name": "stdout",
          "output_type": "stream",
          "text": [
            "0\n",
            "1\n"
          ]
        }
      ],
      "source": [
        "def factorial(n):\n",
        "  if n==0 or num == 1:\n",
        "    return(1)\n",
        "  else:\n",
        "    return n * factorial(n-1)\n",
        "n= int(input())\n",
        "final=factorial(n)\n",
        "print(final)"
      ]
    },
    {
      "cell_type": "code",
      "execution_count": null,
      "metadata": {
        "colab": {
          "base_uri": "https://localhost:8080/"
        },
        "id": "N3HHsRqnWTNr",
        "outputId": "12af47ec-cb6c-4f40-a21c-0a8e2f04695a"
      },
      "outputs": [
        {
          "name": "stdout",
          "output_type": "stream",
          "text": [
            " enter your string\n",
            "ankit\n",
            "enter other string\n",
            "amit\n",
            "{'a', 't', 'i'}\n"
          ]
        }
      ],
      "source": [
        "# Find out common letter between 2 string\n",
        "# def common_string ():\n",
        "#   string_1 = input(\" enter your string\\n\")\n",
        "#   string_2 = input(\"enter other string\\n\")\n",
        "#   set_1 = set(string_1)\n",
        "#   set_2 = set(string_2)\n",
        "#   final = set_1 & set_2\n",
        "#   print(final)\n",
        "# common_string()\n",
        "\n",
        "\n",
        "def common_string ():\n",
        "  string_1 = set(input(\" enter your string\\n\"))\n",
        "  string_2 = set(input(\"enter other string\\n\"))\n",
        "\n",
        "  final = string_1 & string_2\n",
        "  print(final)\n",
        "common_string()"
      ]
    },
    {
      "cell_type": "code",
      "execution_count": null,
      "metadata": {
        "colab": {
          "base_uri": "https://localhost:8080/"
        },
        "id": "BQCozBuMAJgJ",
        "outputId": "cd9025b9-0ebe-47e6-8e6f-74ff4ad4b000"
      },
      "outputs": [
        {
          "output_type": "stream",
          "name": "stdout",
          "text": [
            "enter the stringsheen love eating apple and mango her sister also love eating apple and mango\n",
            "{'sheen': 1}\n",
            "{'sheen': 1, 'love': 1}\n",
            "{'sheen': 1, 'love': 1, 'eating': 1}\n",
            "{'sheen': 1, 'love': 1, 'eating': 1, 'apple': 1}\n",
            "{'sheen': 1, 'love': 1, 'eating': 1, 'apple': 1, 'and': 1}\n",
            "{'sheen': 1, 'love': 1, 'eating': 1, 'apple': 1, 'and': 1, 'mango': 1}\n",
            "{'sheen': 1, 'love': 1, 'eating': 1, 'apple': 1, 'and': 1, 'mango': 1, 'her': 1}\n",
            "{'sheen': 1, 'love': 1, 'eating': 1, 'apple': 1, 'and': 1, 'mango': 1, 'her': 1, 'sister': 1}\n",
            "{'sheen': 1, 'love': 1, 'eating': 1, 'apple': 1, 'and': 1, 'mango': 1, 'her': 1, 'sister': 1, 'also': 1}\n",
            "{'sheen': 1, 'love': 2, 'eating': 1, 'apple': 1, 'and': 1, 'mango': 1, 'her': 1, 'sister': 1, 'also': 1}\n",
            "{'sheen': 1, 'love': 2, 'eating': 2, 'apple': 1, 'and': 1, 'mango': 1, 'her': 1, 'sister': 1, 'also': 1}\n",
            "{'sheen': 1, 'love': 2, 'eating': 2, 'apple': 2, 'and': 1, 'mango': 1, 'her': 1, 'sister': 1, 'also': 1}\n",
            "{'sheen': 1, 'love': 2, 'eating': 2, 'apple': 2, 'and': 2, 'mango': 1, 'her': 1, 'sister': 1, 'also': 1}\n",
            "{'sheen': 1, 'love': 2, 'eating': 2, 'apple': 2, 'and': 2, 'mango': 2, 'her': 1, 'sister': 1, 'also': 1}\n"
          ]
        }
      ],
      "source": [
        "# Frequency of words sheen love eating apple and mango her sister also love eating apple and mango\n",
        "def freq_count():\n",
        " string= input(\"enter the string\")\n",
        " list_1 = string.split()\n",
        " empty_dict={}\n",
        "\n",
        " for i in list_1:\n",
        "  if i in empty_dict:\n",
        "    empty_dict[i]+=1\n",
        "  else:\n",
        "    empty_dict[i]= 1\n",
        "  print(empty_dict)\n",
        "freq_count()\n"
      ]
    },
    {
      "cell_type": "code",
      "execution_count": null,
      "metadata": {
        "colab": {
          "base_uri": "https://localhost:8080/"
        },
        "id": "0JA4HFgIICcL",
        "outputId": "bbff0132-a951-4492-9dda-30ab6d463611"
      },
      "outputs": [
        {
          "name": "stdout",
          "output_type": "stream",
          "text": [
            "Enter the string: he is very good he play good\n",
            "{'he': 2, 'is': 1, 'very': 1, 'good': 2, 'play': 1}\n"
          ]
        }
      ],
      "source": [
        "def freq_count():\n",
        "    string = input(\"Enter the string: \")\n",
        "    list_1 = string.split()\n",
        "    empty_dict = {}\n",
        "\n",
        "    for word in list_1:\n",
        "        if word in empty_dict:\n",
        "            empty_dict[word] += 1\n",
        "        else:\n",
        "            empty_dict[word] = 1\n",
        "\n",
        "    print(empty_dict)\n",
        "\n",
        "freq_count()\n"
      ]
    },
    {
      "cell_type": "code",
      "execution_count": null,
      "metadata": {
        "colab": {
          "base_uri": "https://localhost:8080/"
        },
        "id": "rmTg7szBEGB6",
        "outputId": "f20baca4-1554-4974-dd62-cb4fcd7fa0d4"
      },
      "outputs": [
        {
          "name": "stdout",
          "output_type": "stream",
          "text": [
            "{1: 'one', 2: 'two', 3: 'Three'}\n"
          ]
        }
      ],
      "source": [
        "# conversion of two list\n",
        "def list_to_dict():\n",
        "  key = [1,2,3]\n",
        "  values = ['one','two','Three']\n",
        "  final=dict(zip(key,values))\n",
        "  print(final)\n",
        "list_to_dict()\n",
        "\n"
      ]
    },
    {
      "cell_type": "code",
      "execution_count": null,
      "metadata": {
        "colab": {
          "base_uri": "https://localhost:8080/"
        },
        "id": "CFsHiZjuFDUy",
        "outputId": "ec3fd81b-9781-473d-a061-75ecf8e2fc97"
      },
      "outputs": [
        {
          "name": "stdout",
          "output_type": "stream",
          "text": [
            "['hello','hey','dept']\n",
            "[3,5,6]\n",
            "{'hello': 3, 'hey': 5, 'dept': 6}\n"
          ]
        }
      ],
      "source": [
        "def conversion():\n",
        "  key = eval(input())\n",
        "  values = eval(input())\n",
        "  final=dict(zip(key,values))\n",
        "  print(final)\n",
        "conversion()"
      ]
    },
    {
      "cell_type": "code",
      "execution_count": null,
      "metadata": {
        "colab": {
          "base_uri": "https://localhost:8080/"
        },
        "id": "5X6RjYduIIsp",
        "outputId": "cdfa8503-446a-4bbf-a9ac-206d1b1f0b93"
      },
      "outputs": [
        {
          "name": "stdout",
          "output_type": "stream",
          "text": [
            "17\n",
            "17 * 1 = 17\n",
            "17 * 2 = 34\n",
            "17 * 3 = 51\n",
            "17 * 4 = 68\n",
            "17 * 5 = 85\n",
            "17 * 6 = 102\n",
            "17 * 7 = 119\n",
            "17 * 8 = 136\n",
            "17 * 9 = 153\n",
            "17 * 10 = 170\n"
          ]
        }
      ],
      "source": [
        "# multiplication table\n",
        "n= int(input())\n",
        "for i in range(1,11):\n",
        "  print(n ,'*',i,'=',n*i)\n"
      ]
    },
    {
      "cell_type": "code",
      "execution_count": null,
      "metadata": {
        "colab": {
          "base_uri": "https://localhost:8080/"
        },
        "id": "0jbFoOqRKEMK",
        "outputId": "c59a0602-f9e7-4665-ea3c-79671f9d4ef6"
      },
      "outputs": [
        {
          "name": "stdout",
          "output_type": "stream",
          "text": [
            "2\n",
            "2 * 1 = 2\n",
            "2 * 2 = 4\n",
            "2 * 3 = 6\n",
            "2 * 4 = 8\n",
            "2 * 5 = 10\n",
            "2 * 6 = 12\n",
            "2 * 7 = 14\n",
            "2 * 8 = 16\n",
            "2 * 9 = 18\n",
            "2 * 10 = 20\n"
          ]
        }
      ],
      "source": [
        "n= int(input())\n",
        "i=1\n",
        "while i<=10 :\n",
        "  print(n ,'*',i,'=',n*i)\n",
        "  i=i+1"
      ]
    },
    {
      "cell_type": "code",
      "execution_count": null,
      "metadata": {
        "colab": {
          "base_uri": "https://localhost:8080/"
        },
        "id": "Cg10ZWu_PvQT",
        "outputId": "b85d42eb-4df3-407a-d078-0b13ae664e5c"
      },
      "outputs": [
        {
          "name": "stdout",
          "output_type": "stream",
          "text": [
            "24\n",
            "Its not an armstrong number\n"
          ]
        }
      ],
      "source": [
        "num = int(input())\n",
        "sum = 0\n",
        "temp = num\n",
        "while temp>0:\n",
        "  digit = temp%10\n",
        "  cube = digit**3\n",
        "  sum = sum+cube\n",
        "  temp=temp//10\n",
        "if sum == num:\n",
        "  print('Its an Armstrong Number')\n",
        "else:\n",
        "  print(\"Its not an armstrong number\")"
      ]
    },
    {
      "cell_type": "code",
      "execution_count": null,
      "metadata": {
        "id": "IQT3DlxzRM85",
        "colab": {
          "base_uri": "https://localhost:8080/"
        },
        "outputId": "78faeae5-8fb2-4fe9-f3a9-dbaa2bea5d5b"
      },
      "outputs": [
        {
          "output_type": "stream",
          "name": "stdout",
          "text": [
            "153\n",
            "It is an Armstrong Number\n"
          ]
        }
      ],
      "source": [
        "num = int(input())\n",
        "sum_of_cubes = sum(map(lambda x: int(x)**3, str(num)))\n",
        "\n",
        "if sum_of_cubes == num:\n",
        "    print('It is an Armstrong Number')\n",
        "else:\n",
        "    print(\"It is not an Armstrong number\")\n",
        "\n"
      ]
    },
    {
      "cell_type": "code",
      "execution_count": null,
      "metadata": {
        "colab": {
          "base_uri": "https://localhost:8080/"
        },
        "id": "-Tc6P0-wSxWz",
        "outputId": "73936778-ebc1-43d8-f3d0-808c127747e1"
      },
      "outputs": [
        {
          "name": "stdout",
          "output_type": "stream",
          "text": [
            "12\n",
            "the sum of first first 0 is 78\n"
          ]
        }
      ],
      "source": [
        "# find sum of all natural number\n",
        "number = int(input())\n",
        "if number<0:\n",
        "  print(\"enter positive number\")\n",
        "else:\n",
        "  sum=0\n",
        "  while number >0:\n",
        "    sum+=number\n",
        "    number-=1\n",
        "  print(,sum)"
      ]
    },
    {
      "cell_type": "code",
      "execution_count": null,
      "metadata": {
        "colab": {
          "base_uri": "https://localhost:8080/"
        },
        "id": "-S0J8dR_Y96N",
        "outputId": "7252056c-82bd-4484-8f65-e2a4794a5aa7"
      },
      "outputs": [
        {
          "name": "stdout",
          "output_type": "stream",
          "text": [
            "3\n"
          ]
        }
      ],
      "source": [
        "# ifind the missing number in an array\n",
        "a=[1,2,4,5,6,7]\n",
        "def get_missing_number():\n",
        "  n=a[-1]\n",
        "  sum_ = 0\n",
        "  total = n*(n+1)//2\n",
        "  sum_=sum(a)\n",
        "  final=total-sum_\n",
        "  print(final)\n",
        "\n",
        "\n",
        "\n",
        "get_missing_number()"
      ]
    },
    {
      "cell_type": "code",
      "execution_count": null,
      "metadata": {
        "colab": {
          "base_uri": "https://localhost:8080/"
        },
        "id": "XugD0_vWjemO",
        "outputId": "b34cad5d-0dea-42f9-e8fa-1e06b06a9451"
      },
      "outputs": [
        {
          "name": "stdout",
          "output_type": "stream",
          "text": [
            "The value of pair are 5 & 12\n",
            "The value of pair are 8 & 9\n"
          ]
        }
      ],
      "source": [
        "# find out the pair of given sum\n",
        "arr = [5,7,4,3,9,8,19,21,12]\n",
        "def two_sum(arr,sum):\n",
        "  arr.sort()\n",
        "  left = 0\n",
        "  target = 17\n",
        "  right = len(arr)-1\n",
        "  while left<=right:\n",
        "    if arr[left] + arr[right] >target:\n",
        "      right=right-1\n",
        "    elif arr[left] + arr[right] <target:\n",
        "      left = left +1\n",
        "    elif arr[left] + arr[right] ==target:\n",
        "      print('The value of pair are',arr[left],\"&\",arr[right])\n",
        "      right=right - 1\n",
        "      left = left + 1\n",
        "two_sum(arr,sum)"
      ]
    },
    {
      "cell_type": "code",
      "execution_count": null,
      "metadata": {
        "colab": {
          "base_uri": "https://localhost:8080/"
        },
        "id": "m_h98lchbKND",
        "outputId": "6f45fde3-b9d0-451a-f75a-181f2a380f60"
      },
      "outputs": [
        {
          "data": {
            "text/plain": [
              "array([10, 20, 25, 40, 50])"
            ]
          },
          "execution_count": 15,
          "metadata": {},
          "output_type": "execute_result"
        }
      ],
      "source": [
        "import numpy as np\n",
        "\n",
        "# Consider the following NumPy array:\n",
        "my_array = np.array([10, 20, 30, 40, 50])\n",
        "\n",
        "my_array.size #length\n",
        "my_array[2]\n",
        "np.append(my_array,60) #last_element\n",
        "my_array[2]=25\n",
        "my_array\n"
      ]
    },
    {
      "cell_type": "code",
      "execution_count": null,
      "metadata": {
        "colab": {
          "base_uri": "https://localhost:8080/"
        },
        "id": "0zh88obLix0Z",
        "outputId": "0dfb0d88-1cbe-4f83-c3c2-79cb2d937caf"
      },
      "outputs": [
        {
          "name": "stdout",
          "output_type": "stream",
          "text": [
            "ankit chauhan\n",
            "5\n"
          ]
        }
      ],
      "source": [
        "# Write a Python program that takes a string as input and counts the number of vowels in the string.\n",
        "string = input()\n",
        "vowel = 0\n",
        "all_vowels = 'a,e,i,o,u,A,E,I,O,U'\n",
        "for i in string:\n",
        "  if i in all_vowels:\n",
        "    vowel+=1\n",
        "print(vowel)"
      ]
    },
    {
      "cell_type": "code",
      "execution_count": null,
      "metadata": {
        "colab": {
          "base_uri": "https://localhost:8080/",
          "height": 53
        },
        "id": "exBJ6_W9kPuk",
        "outputId": "61f68bd7-8c0e-4932-d2ed-fb4e52472188"
      },
      "outputs": [
        {
          "name": "stdout",
          "output_type": "stream",
          "text": [
            "x\n"
          ]
        },
        {
          "output_type": "execute_result",
          "data": {
            "text/plain": [
              "'palindrome'"
            ],
            "application/vnd.google.colaboratory.intrinsic+json": {
              "type": "string"
            }
          },
          "metadata": {},
          "execution_count": 2
        }
      ],
      "source": [
        "# Write a Python program that takes a string as input and checks if the string is a palindrome.\n",
        "string = input()\n",
        "def palindrome(string):\n",
        "  if string[::-1]==string:\n",
        "    return 'palindrome'\n",
        "  else:\n",
        "    return 'Not palindrome'\n",
        "palindrome(string)"
      ]
    },
    {
      "cell_type": "code",
      "execution_count": null,
      "metadata": {
        "colab": {
          "base_uri": "https://localhost:8080/",
          "height": 53
        },
        "id": "B839-gwHlIqi",
        "outputId": "9f45e350-6a9d-485b-99b0-11e27eb115fe"
      },
      "outputs": [
        {
          "name": "stdout",
          "output_type": "stream",
          "text": [
            "RaCeCaR\n"
          ]
        },
        {
          "output_type": "execute_result",
          "data": {
            "text/plain": [
              "'palindrome'"
            ],
            "application/vnd.google.colaboratory.intrinsic+json": {
              "type": "string"
            }
          },
          "metadata": {},
          "execution_count": 3
        }
      ],
      "source": [
        "string = input()\n",
        "def palindrome(string):\n",
        "  if string.lower()[::-1]==string.lower():\n",
        "    return 'palindrome'\n",
        "  else:\n",
        "    return 'Not palindrome'\n",
        "palindrome(string)"
      ]
    },
    {
      "cell_type": "code",
      "source": [
        "# Write a Python program that takes a string as input and prints the characters of the string in reverse order\n",
        "string =input()\n",
        "def reverse_char_(string):\n",
        "  return string[::-1]\n",
        "reverse_char_(string)"
      ],
      "metadata": {
        "colab": {
          "base_uri": "https://localhost:8080/",
          "height": 53
        },
        "id": "y0-zO0h6mTrU",
        "outputId": "e650c8ba-a352-47e8-98be-fe055c12ad99"
      },
      "execution_count": null,
      "outputs": [
        {
          "name": "stdout",
          "output_type": "stream",
          "text": [
            "jhon\n"
          ]
        },
        {
          "output_type": "execute_result",
          "data": {
            "text/plain": [
              "'nohj'"
            ],
            "application/vnd.google.colaboratory.intrinsic+json": {
              "type": "string"
            }
          },
          "metadata": {},
          "execution_count": 5
        }
      ]
    },
    {
      "cell_type": "code",
      "source": [
        "array = [3, 8, 1, 6, 2, 10, 4, 7, 5, 9]\n",
        "\n",
        "def largest_small(arr):\n",
        "\n",
        "    large_ = arr[0]\n",
        "    small_ = arr[0]\n",
        "\n",
        "\n",
        "    for num in arr:\n",
        "        if num > large_:\n",
        "            large_ = num\n",
        "        elif num < small_:\n",
        "            small_ = num\n",
        "\n",
        "    return large_, small_\n",
        "\n",
        "\n",
        "largest, smallest = largest_small(array)\n",
        "\n",
        "# Print the results\n",
        "print(\"Largest number:\", largest)\n",
        "print(\"Smallest number:\", smallest)\n"
      ],
      "metadata": {
        "colab": {
          "base_uri": "https://localhost:8080/"
        },
        "id": "owxvX_dgnSfy",
        "outputId": "b9ea3e0b-92d1-4752-d155-c7781f25dc02"
      },
      "execution_count": null,
      "outputs": [
        {
          "output_type": "stream",
          "name": "stdout",
          "text": [
            "Largest number: 10\n",
            "Smallest number: 1\n"
          ]
        }
      ]
    },
    {
      "cell_type": "code",
      "source": [
        "import numpy as np\n",
        "array = [3, 8, 1, 6, 2, 10, 4, 7, 5, 9]\n",
        "final=np.sort(array)\n",
        "smallest_ = final[0]\n",
        "biggest = final[-1]\n",
        "print(smallest_)\n",
        "print(biggest)"
      ],
      "metadata": {
        "colab": {
          "base_uri": "https://localhost:8080/"
        },
        "id": "bg8UMpkMpDr3",
        "outputId": "7c7a51c5-8fc6-4719-db6e-58bece072ba2"
      },
      "execution_count": null,
      "outputs": [
        {
          "output_type": "stream",
          "name": "stdout",
          "text": [
            "1\n",
            "10\n"
          ]
        }
      ]
    },
    {
      "cell_type": "code",
      "source": [],
      "metadata": {
        "id": "gsXvm72IxX-M"
      },
      "execution_count": null,
      "outputs": []
    },
    {
      "cell_type": "markdown",
      "source": [
        "# **Alma ml**"
      ],
      "metadata": {
        "id": "vcpezDkErH64"
      }
    },
    {
      "cell_type": "code",
      "source": [
        "import numpy as np\n",
        "import matplotlib.pyplot as plt\n",
        "from sklearn.datasets import make_regression\n",
        "from sklearn.linear_model import LinearRegression"
      ],
      "metadata": {
        "id": "6LLCKHQkrPFq"
      },
      "execution_count": null,
      "outputs": []
    },
    {
      "cell_type": "code",
      "source": [
        "X, y = make_regression(n_samples=100, n_features=1, noise=20, random_state=42)\n"
      ],
      "metadata": {
        "id": "xmswZQhbreKv"
      },
      "execution_count": null,
      "outputs": []
    },
    {
      "cell_type": "code",
      "source": [
        "model = LinearRegression()\n",
        "model.fit(X, y)\n",
        "y_pred = model.predict(X)\n"
      ],
      "metadata": {
        "id": "H5jfr-2SsHPE"
      },
      "execution_count": null,
      "outputs": []
    },
    {
      "cell_type": "code",
      "source": [
        "plt.scatter(X, y, label='Data', alpha=0.7)\n",
        "plt.plot(X, y_pred, color='red', label='Linear Regression', linewidth=2)\n",
        "\n",
        "plt.grid(True)"
      ],
      "metadata": {
        "colab": {
          "base_uri": "https://localhost:8080/",
          "height": 430
        },
        "id": "_noudxe_sr6S",
        "outputId": "e384b880-e973-4534-f42a-ce869c79ea72"
      },
      "execution_count": null,
      "outputs": [
        {
          "output_type": "display_data",
          "data": {
            "text/plain": [
              "<Figure size 640x480 with 1 Axes>"
            ],
            "image/png": "[encoded data removed]"
          },
          "metadata": {}
        }
      ]
    },
    {
      "cell_type": "code",
      "source": [
        "print('hello')"
      ],
      "metadata": {
        "colab": {
          "base_uri": "https://localhost:8080/"
        },
        "id": "2AucVGd8y_0q",
        "outputId": "df2ce9ec-8800-43d6-82e7-2d711f7670c5"
      },
      "execution_count": null,
      "outputs": [
        {
          "output_type": "stream",
          "name": "stdout",
          "text": [
            "hello\n"
          ]
        }
      ]
    },
    {
      "cell_type": "code",
      "source": [
        "print('''hello\n",
        "World to you\n",
        "and you looks\n",
        "''')"
      ],
      "metadata": {
        "colab": {
          "base_uri": "https://localhost:8080/"
        },
        "id": "CTnuNx8FzFZf",
        "outputId": "9d83fc9b-5c6b-4924-fcae-a909021a04e6"
      },
      "execution_count": null,
      "outputs": [
        {
          "output_type": "stream",
          "name": "stdout",
          "text": [
            "hello\n",
            "World to you\n",
            "and you looks\n",
            "\n"
          ]
        }
      ]
    },
    {
      "cell_type": "code",
      "source": [
        "x=1\n",
        "print(type(x))"
      ],
      "metadata": {
        "colab": {
          "base_uri": "https://localhost:8080/"
        },
        "id": "iwg0wjP2zKKF",
        "outputId": "9d7c3af1-be3d-4127-fdb6-ff93e62eeb65"
      },
      "execution_count": null,
      "outputs": [
        {
          "output_type": "stream",
          "name": "stdout",
          "text": [
            "<class 'int'>\n"
          ]
        }
      ]
    },
    {
      "cell_type": "code",
      "source": [
        "a= 15"
      ],
      "metadata": {
        "id": "BIGisjyQziI2"
      },
      "execution_count": null,
      "outputs": []
    },
    {
      "cell_type": "code",
      "source": [
        "a+7\n"
      ],
      "metadata": {
        "colab": {
          "base_uri": "https://localhost:8080/"
        },
        "id": "JzYV5cvWzj7K",
        "outputId": "292559b3-96c8-4691-ea8b-5804c52f5deb"
      },
      "execution_count": null,
      "outputs": [
        {
          "output_type": "execute_result",
          "data": {
            "text/plain": [
              "22"
            ]
          },
          "metadata": {},
          "execution_count": 7
        }
      ]
    },
    {
      "cell_type": "code",
      "source": [
        "a= 'ankit'\n",
        "b=5\n",
        "c=str(b)\n",
        "print(a+c)\n",
        "# print(a+b)"
      ],
      "metadata": {
        "colab": {
          "base_uri": "https://localhost:8080/"
        },
        "id": "Bz0kl2V-zyUw",
        "outputId": "e6271b2b-d30c-48fc-f74e-3d28d50b2f33"
      },
      "execution_count": null,
      "outputs": [
        {
          "output_type": "stream",
          "name": "stdout",
          "text": [
            "ankit5\n"
          ]
        }
      ]
    },
    {
      "cell_type": "code",
      "source": [
        "a*3\n"
      ],
      "metadata": {
        "colab": {
          "base_uri": "https://localhost:8080/",
          "height": 36
        },
        "id": "SjieyqVa0Cm6",
        "outputId": "c6df3ff0-21be-4e2b-9aa5-14bacb84c9c2"
      },
      "execution_count": null,
      "outputs": [
        {
          "output_type": "execute_result",
          "data": {
            "text/plain": [
              "'ankitankitankit'"
            ],
            "application/vnd.google.colaboratory.intrinsic+json": {
              "type": "string"
            }
          },
          "metadata": {},
          "execution_count": 13
        }
      ]
    },
    {
      "cell_type": "code",
      "source": [
        "age = int(input())\n",
        "if age <12:\n",
        "  print(\"child\")\n",
        "elif age>=12 and age<18:\n",
        "  print(\"teen\")\n",
        "elif age>=19 and age<35:\n",
        "  print(\"adult\")\n",
        "else:\n",
        "  print(\"older\")"
      ],
      "metadata": {
        "colab": {
          "base_uri": "https://localhost:8080/"
        },
        "id": "JCJpZpS_0r12",
        "outputId": "e63d1ad2-a4b7-4b54-c212-014fa02ab80b"
      },
      "execution_count": null,
      "outputs": [
        {
          "output_type": "stream",
          "name": "stdout",
          "text": [
            "38\n",
            "older\n"
          ]
        }
      ]
    },
    {
      "cell_type": "code",
      "source": [
        "list_ = [2,3,5,7,8,9,1]\n",
        "# for i in range(len(list_)):\n",
        "#   print(i)\n",
        "for i in list_:\n",
        "  print(i)"
      ],
      "metadata": {
        "colab": {
          "base_uri": "https://localhost:8080/"
        },
        "id": "odr8aLLX14ih",
        "outputId": "38111428-9d93-48e4-df12-ed58eb930050"
      },
      "execution_count": null,
      "outputs": [
        {
          "output_type": "stream",
          "name": "stdout",
          "text": [
            "2\n",
            "3\n",
            "5\n",
            "7\n",
            "8\n",
            "9\n",
            "1\n"
          ]
        }
      ]
    },
    {
      "cell_type": "code",
      "source": [
        "for i in range(len(list_)):\n",
        "  print(i)"
      ],
      "metadata": {
        "colab": {
          "base_uri": "https://localhost:8080/"
        },
        "id": "5075TnJD2OAa",
        "outputId": "fb7d3dfb-8956-4a9e-d432-2fe2a0b4738d"
      },
      "execution_count": null,
      "outputs": [
        {
          "output_type": "stream",
          "name": "stdout",
          "text": [
            "0\n",
            "1\n",
            "2\n",
            "3\n",
            "4\n",
            "5\n",
            "6\n"
          ]
        }
      ]
    },
    {
      "cell_type": "code",
      "source": [
        "list_ = [2,3,5,7,8,9,1]\n",
        "sum_=0\n",
        "for x in  list_:\n",
        "\n",
        "   sum_+=x\n",
        "print(sum_)\n",
        "\n"
      ],
      "metadata": {
        "colab": {
          "base_uri": "https://localhost:8080/"
        },
        "id": "xfj_036N3Mr3",
        "outputId": "cf53fca3-a4e3-4c29-ad52-e003d874e2ef"
      },
      "execution_count": null,
      "outputs": [
        {
          "output_type": "stream",
          "name": "stdout",
          "text": [
            "35\n"
          ]
        }
      ]
    },
    {
      "cell_type": "code",
      "source": [
        "for i in list_:\n",
        "  print(i**2)\n"
      ],
      "metadata": {
        "colab": {
          "base_uri": "https://localhost:8080/"
        },
        "id": "nFo6q4yu6gK2",
        "outputId": "985b0c7c-65b4-4562-825d-1cadc5c8558d"
      },
      "execution_count": null,
      "outputs": [
        {
          "output_type": "stream",
          "name": "stdout",
          "text": [
            "4\n",
            "9\n",
            "25\n",
            "49\n",
            "64\n",
            "81\n",
            "1\n"
          ]
        }
      ]
    },
    {
      "cell_type": "code",
      "source": [
        "i=0\n",
        "odd_sum =0\n",
        "even_sum=0\n",
        "\n",
        "while i<=10:\n",
        "  if i%2==0:\n",
        "    even_sum +=i\n",
        "  else:\n",
        "    odd_sum += i\n",
        "  i=i+1\n",
        "print(odd_sum,even_sum)"
      ],
      "metadata": {
        "colab": {
          "base_uri": "https://localhost:8080/"
        },
        "id": "e58IhjnXkOn-",
        "outputId": "e40532bb-58d0-48d3-f4d1-97dc31cef0b3"
      },
      "execution_count": null,
      "outputs": [
        {
          "output_type": "stream",
          "name": "stdout",
          "text": [
            "25 30\n"
          ]
        }
      ]
    },
    {
      "cell_type": "code",
      "source": [
        "x=1\n",
        "while x<7:\n",
        "  if x==4:\n",
        "    break\n",
        "  x=x+1\n",
        "  print(x)\n",
        "print(x)"
      ],
      "metadata": {
        "colab": {
          "base_uri": "https://localhost:8080/"
        },
        "id": "2fpOMhcvlmY1",
        "outputId": "7ef6d27e-9e4a-47e8-d0e5-6724fac86501"
      },
      "execution_count": null,
      "outputs": [
        {
          "output_type": "stream",
          "name": "stdout",
          "text": [
            "2\n",
            "3\n",
            "4\n",
            "4\n"
          ]
        }
      ]
    },
    {
      "cell_type": "code",
      "source": [
        "x=1\n",
        "while x <10:\n",
        "\n",
        "    x=x+1\n",
        "    if x==3:\n",
        "      continue\n",
        "    print(x)\n",
        "\n",
        "\n",
        "\n"
      ],
      "metadata": {
        "colab": {
          "base_uri": "https://localhost:8080/"
        },
        "id": "OHk7LRWQm7-F",
        "outputId": "c66df060-e414-45a3-f88c-b5a1571fc5d8"
      },
      "execution_count": null,
      "outputs": [
        {
          "output_type": "stream",
          "name": "stdout",
          "text": [
            "2\n",
            "4\n",
            "5\n",
            "6\n",
            "7\n",
            "8\n",
            "9\n",
            "10\n"
          ]
        }
      ]
    },
    {
      "cell_type": "code",
      "source": [
        "marks =int(input(\"enter the marks\"))\n",
        "if marks>=33:\n",
        "  print(\"passed\")\n",
        "elif marks<33 or marks>50:\n",
        "    print(\"third divison\")\n",
        "elif marks>51 or marks <65:\n",
        "    print(\"second divison\")\n",
        "elif marks>66:\n",
        "    print(\"first Division\")\n",
        "else:\n",
        "  print(\"failed\")"
      ],
      "metadata": {
        "colab": {
          "base_uri": "https://localhost:8080/"
        },
        "id": "hvOe7UTpnmbf",
        "outputId": "9f92d33b-c66c-468b-c55c-602cdfc0bac7"
      },
      "execution_count": null,
      "outputs": [
        {
          "output_type": "stream",
          "name": "stdout",
          "text": [
            "enter the marks34\n",
            "passed\n"
          ]
        }
      ]
    },
    {
      "cell_type": "code",
      "source": [
        "abs(-7)"
      ],
      "metadata": {
        "colab": {
          "base_uri": "https://localhost:8080/"
        },
        "id": "gK8k5jeBs8lY",
        "outputId": "d3bbb17e-2b66-49ca-b395-0e8f457fb3d2"
      },
      "execution_count": null,
      "outputs": [
        {
          "output_type": "execute_result",
          "data": {
            "text/plain": [
              "7"
            ]
          },
          "metadata": {},
          "execution_count": 38
        }
      ]
    },
    {
      "cell_type": "code",
      "source": [
        "import math"
      ],
      "metadata": {
        "id": "ltTFpIZqtRI5"
      },
      "execution_count": null,
      "outputs": []
    },
    {
      "cell_type": "code",
      "source": [
        "math.ceil(3.45)\n",
        "math.floor(3.45)"
      ],
      "metadata": {
        "colab": {
          "base_uri": "https://localhost:8080/"
        },
        "id": "zYASsBLZtVL1",
        "outputId": "2f6c3481-9d71-4c72-94e9-352352af1753"
      },
      "execution_count": null,
      "outputs": [
        {
          "output_type": "execute_result",
          "data": {
            "text/plain": [
              "3"
            ]
          },
          "metadata": {},
          "execution_count": 41
        }
      ]
    },
    {
      "cell_type": "code",
      "source": [
        "math.log(10)"
      ],
      "metadata": {
        "colab": {
          "base_uri": "https://localhost:8080/"
        },
        "id": "8pxiOxf2tngu",
        "outputId": "29308927-55bb-4d8c-e943-9b29f8d94b3c"
      },
      "execution_count": null,
      "outputs": [
        {
          "output_type": "execute_result",
          "data": {
            "text/plain": [
              "2.302585092994046"
            ]
          },
          "metadata": {},
          "execution_count": 42
        }
      ]
    },
    {
      "cell_type": "code",
      "source": [
        "math.pow(10,2)"
      ],
      "metadata": {
        "colab": {
          "base_uri": "https://localhost:8080/"
        },
        "id": "gl9UaGHZtxSV",
        "outputId": "14e24f6b-0be8-4e4d-d0ee-0e42ff9552b6"
      },
      "execution_count": null,
      "outputs": [
        {
          "output_type": "execute_result",
          "data": {
            "text/plain": [
              "100.0"
            ]
          },
          "metadata": {},
          "execution_count": 43
        }
      ]
    },
    {
      "cell_type": "code",
      "source": [
        "math.sqrt(225)\n",
        "math.cos(0)"
      ],
      "metadata": {
        "colab": {
          "base_uri": "https://localhost:8080/"
        },
        "id": "_9U7Cb4Yt1Pm",
        "outputId": "f0e9913b-3e67-45b4-dbc2-c7584d7a84b8"
      },
      "execution_count": null,
      "outputs": [
        {
          "output_type": "execute_result",
          "data": {
            "text/plain": [
              "1.0"
            ]
          },
          "metadata": {},
          "execution_count": 45
        }
      ]
    },
    {
      "cell_type": "code",
      "source": [
        "new = \"my name is ankit\"\n",
        "print(new.title())\n",
        "print(new.upper())"
      ],
      "metadata": {
        "colab": {
          "base_uri": "https://localhost:8080/"
        },
        "id": "yc4xmVbauckS",
        "outputId": "18fbd334-674e-4563-b496-ec2513a7349a"
      },
      "execution_count": null,
      "outputs": [
        {
          "output_type": "stream",
          "name": "stdout",
          "text": [
            "My Name Is Ankit\n",
            "MY NAME IS ANKIT\n"
          ]
        }
      ]
    },
    {
      "cell_type": "code",
      "source": [
        "new= ['ankit','amit',1,2,3,4,5]\n",
        "new.append(\"ajay\")\n",
        "new.append([\"akshay\",\"kamal\"])\n",
        "new.insert(0,[1,2,3,4,5])\n",
        "new"
      ],
      "metadata": {
        "colab": {
          "base_uri": "https://localhost:8080/"
        },
        "id": "VjvQmATHwDrs",
        "outputId": "06d100d0-33bc-448e-c5e4-36b4a89d9a1f"
      },
      "execution_count": null,
      "outputs": [
        {
          "output_type": "execute_result",
          "data": {
            "text/plain": [
              "[[1, 2, 3, 4, 5], 'ankit', 'amit', 1, 2, 3, 4, 5, 'ajay', ['akshay', 'kamal']]"
            ]
          },
          "metadata": {},
          "execution_count": 54
        }
      ]
    },
    {
      "cell_type": "code",
      "source": [
        "new_ = [1,2,3,4]\n",
        "new_.append(5)\n",
        "new_"
      ],
      "metadata": {
        "colab": {
          "base_uri": "https://localhost:8080/"
        },
        "id": "3WCQULtkxZKb",
        "outputId": "9d0d7985-9a33-4d15-e427-f572f996e459"
      },
      "execution_count": null,
      "outputs": [
        {
          "output_type": "execute_result",
          "data": {
            "text/plain": [
              "[1, 2, 3, 4, 5]"
            ]
          },
          "metadata": {},
          "execution_count": 57
        }
      ]
    },
    {
      "cell_type": "code",
      "source": [
        "new_.extend([6,7,8])\n",
        "new_"
      ],
      "metadata": {
        "colab": {
          "base_uri": "https://localhost:8080/"
        },
        "id": "BtcEQ4S3xjzc",
        "outputId": "f40429dc-5cdc-4ce7-cd88-75f8228f80ce"
      },
      "execution_count": null,
      "outputs": [
        {
          "output_type": "execute_result",
          "data": {
            "text/plain": [
              "[1, 2, 3, 4, 5, 7, 8, 6, 7, 8]"
            ]
          },
          "metadata": {},
          "execution_count": 62
        }
      ]
    },
    {
      "cell_type": "code",
      "source": [
        "new=lambda x,y :x+y\n",
        "new(3,5)\n",
        "divide=lambda x,y:x/y\n",
        "divide(13,5)"
      ],
      "metadata": {
        "colab": {
          "base_uri": "https://localhost:8080/"
        },
        "id": "qmuE_gJa6ldv",
        "outputId": "020257c2-cb1f-4f2e-b486-61c830581b0b"
      },
      "execution_count": null,
      "outputs": [
        {
          "output_type": "execute_result",
          "data": {
            "text/plain": [
              "2.6"
            ]
          },
          "metadata": {},
          "execution_count": 4
        }
      ]
    },
    {
      "cell_type": "code",
      "source": [
        "string_len = lambda x:len(x)\n",
        "string_len(\"ankit chauhan\")"
      ],
      "metadata": {
        "colab": {
          "base_uri": "https://localhost:8080/"
        },
        "id": "Z-HTZmyg_8ib",
        "outputId": "9b4399bd-b882-4e8e-b0c7-9a0f99d0a8ab"
      },
      "execution_count": null,
      "outputs": [
        {
          "output_type": "execute_result",
          "data": {
            "text/plain": [
              "13"
            ]
          },
          "metadata": {},
          "execution_count": 6
        }
      ]
    },
    {
      "cell_type": "code",
      "source": [
        "number = [1,2,3,4,5,6,8]\n",
        "square=list(map(lambda x:x**2,number))\n",
        "square"
      ],
      "metadata": {
        "colab": {
          "base_uri": "https://localhost:8080/"
        },
        "id": "ewQ-KonmAJsF",
        "outputId": "4f5e2776-9cda-4ac6-97d0-607990b6b79b"
      },
      "execution_count": null,
      "outputs": [
        {
          "output_type": "execute_result",
          "data": {
            "text/plain": [
              "[1, 4, 9, 16, 25, 36, 64]"
            ]
          },
          "metadata": {},
          "execution_count": 14
        }
      ]
    },
    {
      "cell_type": "code",
      "source": [
        "even = list(filter(lambda x:x%2==0 , number))\n",
        "even"
      ],
      "metadata": {
        "colab": {
          "base_uri": "https://localhost:8080/"
        },
        "id": "S2vSTwd4BTk7",
        "outputId": "825c7a1e-63ae-48df-9d12-8e9039ec410c"
      },
      "execution_count": null,
      "outputs": [
        {
          "output_type": "execute_result",
          "data": {
            "text/plain": [
              "[2, 4, 6, 8]"
            ]
          },
          "metadata": {},
          "execution_count": 12
        }
      ]
    },
    {
      "cell_type": "code",
      "source": [
        "odd = list(map(lambda x:x%2!=0 , number))\n",
        "odd"
      ],
      "metadata": {
        "colab": {
          "base_uri": "https://localhost:8080/"
        },
        "id": "Wg3GzI0lBu20",
        "outputId": "5f761f9c-867e-4530-851d-1d633d4f15b1"
      },
      "execution_count": null,
      "outputs": [
        {
          "output_type": "execute_result",
          "data": {
            "text/plain": [
              "[True, False, True, False, True, False, False]"
            ]
          },
          "metadata": {},
          "execution_count": 15
        }
      ]
    },
    {
      "cell_type": "code",
      "source": [
        "fruits = ['apple', 'banana', 'cherry', 'date', 'elderberry']\n",
        "sorted(fruits,key=lambda x: len(x))"
      ],
      "metadata": {
        "colab": {
          "base_uri": "https://localhost:8080/"
        },
        "id": "pk_LH0_rB99p",
        "outputId": "72534038-5484-4f37-abae-a4fbc96eac9d"
      },
      "execution_count": null,
      "outputs": [
        {
          "output_type": "execute_result",
          "data": {
            "text/plain": [
              "['date', 'apple', 'banana', 'cherry', 'elderberry']"
            ]
          },
          "metadata": {},
          "execution_count": 17
        }
      ]
    },
    {
      "cell_type": "code",
      "source": [
        "people = [\n",
        "    {'name': 'Alice', 'age': 25, 'occupation': 'Engineer'},\n",
        "    {'name': 'Bob', 'age': 23, 'occupation': 'Manager'},\n",
        "    {'name': 'Charlie', 'age': 11, 'occupation': 'Intern'},\n",
        "    {'name': 'Dave', 'age': 27, 'occupation': 'Designer'},\n",
        "]"
      ],
      "metadata": {
        "id": "-cegU9ohCaQm"
      },
      "execution_count": null,
      "outputs": []
    },
    {
      "cell_type": "code",
      "source": [
        "sorted(people,key=lambda x:(x['age']))"
      ],
      "metadata": {
        "colab": {
          "base_uri": "https://localhost:8080/"
        },
        "id": "wLerjcbOCdRk",
        "outputId": "5ed74a74-f57a-4b27-eb12-dc4d04d7bf44"
      },
      "execution_count": null,
      "outputs": [
        {
          "output_type": "execute_result",
          "data": {
            "text/plain": [
              "[{'name': 'Charlie', 'age': 22, 'occupation': 'Intern'},\n",
              " {'name': 'Alice', 'age': 25, 'occupation': 'Engineer'},\n",
              " {'name': 'Dave', 'age': 27, 'occupation': 'Designer'},\n",
              " {'name': 'Bob', 'age': 30, 'occupation': 'Manager'}]"
            ]
          },
          "metadata": {},
          "execution_count": 19
        }
      ]
    },
    {
      "cell_type": "code",
      "source": [
        "new = '1 2 find look seek'\n",
        "set_ = set(new.split())\n",
        "\n",
        "print(len(set_))"
      ],
      "metadata": {
        "colab": {
          "base_uri": "https://localhost:8080/"
        },
        "id": "9IFuLurgSOO7",
        "outputId": "5f5780ff-4547-4e18-b9f7-bbc610459c69"
      },
      "execution_count": null,
      "outputs": [
        {
          "output_type": "stream",
          "name": "stdout",
          "text": [
            "5\n"
          ]
        }
      ]
    },
    {
      "cell_type": "code",
      "source": [
        "input_ = input()\n",
        "if input_ == input_[::-1] :\n",
        "  print('palindrome')\n",
        "else:\n",
        "  print ('Not palindrome')"
      ],
      "metadata": {
        "colab": {
          "base_uri": "https://localhost:8080/"
        },
        "id": "tq6nGRsULV-o",
        "outputId": "eebf8536-b2ff-45a6-dfaf-abc0cd7e59c2"
      },
      "execution_count": null,
      "outputs": [
        {
          "output_type": "stream",
          "name": "stdout",
          "text": [
            "true\n",
            "Not palindrome\n"
          ]
        }
      ]
    },
    {
      "cell_type": "code",
      "source": [
        "# Take input from user\n",
        "tup_input = input()\n",
        "\n",
        "# Take the item to be removed from user\n",
        "item = input()\n",
        "\n",
        "# Split the input and convert into tuple\n",
        "tup = (tup_input.split(','))\n",
        "print(tup)\n",
        "\n",
        "# Convert the tuple into list to be processed\n",
        "# listx = list(tup)\n",
        "\n",
        "# # Remove the item from list\n",
        "# listx.remove(item)\n",
        "\n",
        "# # Convert the list to tuple\n",
        "# tuplex = tuple(listx)\n",
        "\n",
        "# # Print the tuple\n",
        "# print(tuplex)"
      ],
      "metadata": {
        "colab": {
          "base_uri": "https://localhost:8080/"
        },
        "id": "n0ZiKOt2NFAk",
        "outputId": "e7cf0c4a-3810-4152-814d-58c5200cb0fe"
      },
      "execution_count": null,
      "outputs": [
        {
          "output_type": "stream",
          "name": "stdout",
          "text": [
            "a,b,c,d,e,f,g\n",
            "f\n",
            "['a', 'b', 'c', 'd', 'e', 'f', 'g']\n"
          ]
        }
      ]
    },
    {
      "cell_type": "code",
      "source": [
        "number = [1,2,3,4,5,6,8]\n",
        "for x in enumerate(number):\n",
        "  print(x)"
      ],
      "metadata": {
        "colab": {
          "base_uri": "https://localhost:8080/"
        },
        "id": "JIe8BcgRYS8d",
        "outputId": "0112e241-7402-4aa1-e651-a47e6224e82a"
      },
      "execution_count": null,
      "outputs": [
        {
          "output_type": "stream",
          "name": "stdout",
          "text": [
            "(0, 1)\n",
            "(1, 2)\n",
            "(2, 3)\n",
            "(3, 4)\n",
            "(4, 5)\n",
            "(5, 6)\n",
            "(6, 8)\n"
          ]
        }
      ]
    },
    {
      "cell_type": "code",
      "source": [
        "number = int(input())\n",
        "total = 0\n",
        "def single_dig (num):\n",
        "    while num>0:\n",
        "        total+=num%10\n",
        "        num//=10\n",
        "    return total\n",
        "single_dig (num)"
      ],
      "metadata": {
        "colab": {
          "base_uri": "https://localhost:8080/",
          "height": 315
        },
        "id": "B-cUdmk600mr",
        "outputId": "6a8686f1-85e9-410d-f6b7-cf8d3e9f8f4d"
      },
      "execution_count": null,
      "outputs": [
        {
          "name": "stdout",
          "output_type": "stream",
          "text": [
            "123\n"
          ]
        },
        {
          "output_type": "error",
          "ename": "UnboundLocalError",
          "evalue": "local variable 'total' referenced before assignment",
          "traceback": [
            "\u001b[0;31m---------------------------------------------------------------------------\u001b[0m",
            "\u001b[0;31mUnboundLocalError\u001b[0m                         Traceback (most recent call last)",
            "\u001b[0;32m<ipython-input-8-e2fd109f8d8e>\u001b[0m in \u001b[0;36m<cell line: 8>\u001b[0;34m()\u001b[0m\n\u001b[1;32m      6\u001b[0m         \u001b[0mnum\u001b[0m\u001b[0;34m//=\u001b[0m\u001b[0;36m10\u001b[0m\u001b[0;34m\u001b[0m\u001b[0;34m\u001b[0m\u001b[0m\n\u001b[1;32m      7\u001b[0m     \u001b[0;32mreturn\u001b[0m \u001b[0mtotal\u001b[0m\u001b[0;34m\u001b[0m\u001b[0;34m\u001b[0m\u001b[0m\n\u001b[0;32m----> 8\u001b[0;31m \u001b[0msingle_dig\u001b[0m \u001b[0;34m(\u001b[0m\u001b[0mnum\u001b[0m\u001b[0;34m)\u001b[0m\u001b[0;34m\u001b[0m\u001b[0;34m\u001b[0m\u001b[0m\n\u001b[0m",
            "\u001b[0;32m<ipython-input-8-e2fd109f8d8e>\u001b[0m in \u001b[0;36msingle_dig\u001b[0;34m(num)\u001b[0m\n\u001b[1;32m      3\u001b[0m \u001b[0;32mdef\u001b[0m \u001b[0msingle_dig\u001b[0m \u001b[0;34m(\u001b[0m\u001b[0mnum\u001b[0m\u001b[0;34m)\u001b[0m\u001b[0;34m:\u001b[0m\u001b[0;34m\u001b[0m\u001b[0;34m\u001b[0m\u001b[0m\n\u001b[1;32m      4\u001b[0m     \u001b[0;32mwhile\u001b[0m \u001b[0mnum\u001b[0m\u001b[0;34m>\u001b[0m\u001b[0;36m0\u001b[0m\u001b[0;34m:\u001b[0m\u001b[0;34m\u001b[0m\u001b[0;34m\u001b[0m\u001b[0m\n\u001b[0;32m----> 5\u001b[0;31m         \u001b[0mtotal\u001b[0m\u001b[0;34m+=\u001b[0m\u001b[0mnum\u001b[0m\u001b[0;34m%\u001b[0m\u001b[0;36m10\u001b[0m\u001b[0;34m\u001b[0m\u001b[0;34m\u001b[0m\u001b[0m\n\u001b[0m\u001b[1;32m      6\u001b[0m         \u001b[0mnum\u001b[0m\u001b[0;34m//=\u001b[0m\u001b[0;36m10\u001b[0m\u001b[0;34m\u001b[0m\u001b[0;34m\u001b[0m\u001b[0m\n\u001b[1;32m      7\u001b[0m     \u001b[0;32mreturn\u001b[0m \u001b[0mtotal\u001b[0m\u001b[0;34m\u001b[0m\u001b[0;34m\u001b[0m\u001b[0m\n",
            "\u001b[0;31mUnboundLocalError\u001b[0m: local variable 'total' referenced before assignment"
          ]
        }
      ]
    },
    {
      "cell_type": "code",
      "source": [
        "str_ = input()\n",
        "for words in str_.lower():\n",
        "  if words in ('a','e','i','o','u'):\n",
        "    print('vowels')\n",
        "  else:\n",
        "    print('not vowels')"
      ],
      "metadata": {
        "id": "Wew7EEBbFImP",
        "outputId": "076f0921-7e00-4c78-fb49-f36e67da16ea",
        "colab": {
          "base_uri": "https://localhost:8080/"
        }
      },
      "execution_count": null,
      "outputs": [
        {
          "output_type": "stream",
          "name": "stdout",
          "text": [
            "a\n",
            "vowels\n"
          ]
        }
      ]
    },
    {
      "cell_type": "code",
      "source": [
        "time = 100000\n",
        "days = time//(24*3600)\n",
        "time=time % (24*3600)\n",
        "hour = time //3600\n",
        "time=time % 3600\n",
        "minutes = time //60\n",
        "time=time % 60\n",
        "seconds = time\n",
        "\n",
        "print(\"D:H:M:S----->%d:%d:%d:%d\"%(days,hour,minutes,seconds))"
      ],
      "metadata": {
        "colab": {
          "base_uri": "https://localhost:8080/"
        },
        "id": "DEkIHQgNFQz6",
        "outputId": "96bc7543-7a09-4f76-ec16-771cbd0dfd95"
      },
      "execution_count": null,
      "outputs": [
        {
          "output_type": "stream",
          "name": "stdout",
          "text": [
            "D:H:M:S----->1:3:46:40\n"
          ]
        }
      ]
    },
    {
      "cell_type": "code",
      "source": [
        "def lcm(x,y,z):\n",
        "  max_ = max(x,y,z)\n",
        "  multiple = max_\n",
        "  while True:\n",
        "    if multiple % x == 0 and multiple % y == 0 and multiple % z == 0:\n",
        "      return multiple\n",
        "    else:\n",
        "      multiple+=max_\n",
        "x= int(input())\n",
        "y= int(input())\n",
        "z= int(input())\n",
        "new=lcm(x,y,z)\n",
        "new"
      ],
      "metadata": {
        "colab": {
          "base_uri": "https://localhost:8080/"
        },
        "id": "EhPxH9LfKiG2",
        "outputId": "a4d3a77a-3a98-46eb-c8ee-dab623f13314"
      },
      "execution_count": null,
      "outputs": [
        {
          "name": "stdout",
          "output_type": "stream",
          "text": [
            "3\n",
            "5\n",
            "20\n"
          ]
        },
        {
          "output_type": "execute_result",
          "data": {
            "text/plain": [
              "60"
            ]
          },
          "metadata": {},
          "execution_count": 2
        }
      ]
    },
    {
      "cell_type": "code",
      "source": [
        "for i in range(1,11):\n",
        "  print(i,end='-')"
      ],
      "metadata": {
        "colab": {
          "base_uri": "https://localhost:8080/"
        },
        "id": "oMwibNQwlysu",
        "outputId": "ddeaf09a-4b4e-46ad-8c75-9cd93a672c46"
      },
      "execution_count": null,
      "outputs": [
        {
          "output_type": "stream",
          "name": "stdout",
          "text": [
            "1-2-3-4-5-6-7-8-9-10-"
          ]
        }
      ]
    },
    {
      "cell_type": "code",
      "source": [
        "sum_=0\n",
        "for i in range(1,10):\n",
        "  sum_+=i\n",
        "print(sum_)"
      ],
      "metadata": {
        "colab": {
          "base_uri": "https://localhost:8080/"
        },
        "id": "3AR1Otb-mHdP",
        "outputId": "44762281-96e2-40f9-c3d2-8944c90aa7d3"
      },
      "execution_count": null,
      "outputs": [
        {
          "output_type": "stream",
          "name": "stdout",
          "text": [
            "45\n"
          ]
        }
      ]
    },
    {
      "cell_type": "code",
      "source": [
        "number= int(input())\n",
        "for i in range(1,11):\n",
        "  print(f'{number} * {i} = {number * i} ')"
      ],
      "metadata": {
        "colab": {
          "base_uri": "https://localhost:8080/"
        },
        "id": "hzX5o7o8mi0j",
        "outputId": "d4af6407-bb33-4d3a-beb7-9eaf0a9468a9"
      },
      "execution_count": null,
      "outputs": [
        {
          "output_type": "stream",
          "name": "stdout",
          "text": [
            "5\n",
            "5 * 1 = 5 \n",
            "5 * 2 = 10 \n",
            "5 * 3 = 15 \n",
            "5 * 4 = 20 \n",
            "5 * 5 = 25 \n",
            "5 * 6 = 30 \n",
            "5 * 7 = 35 \n",
            "5 * 8 = 40 \n",
            "5 * 9 = 45 \n",
            "5 * 10 = 50 \n"
          ]
        }
      ]
    },
    {
      "cell_type": "code",
      "source": [
        "lst  = [56,45,85,47,54,32,14,25,28,26,28,277]\n",
        "for i in range(len(lst)):\n",
        "  print(lst[i],end='-')"
      ],
      "metadata": {
        "colab": {
          "base_uri": "https://localhost:8080/"
        },
        "id": "mZ20hWr6nGWs",
        "outputId": "11761425-15f8-44ab-8fd2-7f9aec5cf13a"
      },
      "execution_count": null,
      "outputs": [
        {
          "output_type": "stream",
          "name": "stdout",
          "text": [
            "56-45-85-47-54-32-14-25-28-26-28-277-"
          ]
        }
      ]
    },
    {
      "cell_type": "code",
      "source": [
        "for i in range(len(lst)-1,-1,-1):\n",
        "  print(lst[i],end='-')"
      ],
      "metadata": {
        "colab": {
          "base_uri": "https://localhost:8080/"
        },
        "id": "w8lU2E7BnoVt",
        "outputId": "4c596617-68a4-4bd0-dbd3-00a3e4e6b029"
      },
      "execution_count": null,
      "outputs": [
        {
          "output_type": "stream",
          "name": "stdout",
          "text": [
            "277-28-26-28-25-14-32-54-47-85-45-56-"
          ]
        }
      ]
    },
    {
      "cell_type": "code",
      "source": [
        "for i in range(-10,-1,1):\n",
        "  print(i,end='-')"
      ],
      "metadata": {
        "colab": {
          "base_uri": "https://localhost:8080/"
        },
        "id": "ymC1wBd1oMXK",
        "outputId": "bdfb84ec-9303-4dee-fb7d-2d66c54328ee"
      },
      "execution_count": null,
      "outputs": [
        {
          "output_type": "stream",
          "name": "stdout",
          "text": [
            "-10--9--8--7--6--5--4--3--2-"
          ]
        }
      ]
    },
    {
      "cell_type": "code",
      "source": [
        "my_list = [10, 20, 30, 40, 50, 60, 70, 80, 90, 100]\n",
        "for i in range(len(my_list)):\n",
        "  if i%2!=0:\n",
        "    print(f'index num{i+1} {my_list[i]} ',end=', ')\n",
        "\n"
      ],
      "metadata": {
        "colab": {
          "base_uri": "https://localhost:8080/"
        },
        "id": "lCdnX8tQpQsN",
        "outputId": "c264feda-c24d-4836-ea57-dff14f4e76a4"
      },
      "execution_count": null,
      "outputs": [
        {
          "output_type": "stream",
          "name": "stdout",
          "text": [
            "index num2 20 , index num4 40 , index num6 60 , index num8 80 , index num10 100 , "
          ]
        }
      ]
    },
    {
      "cell_type": "code",
      "source": [
        "n=int(input())\n",
        "for i in range(1,n+1):\n",
        "  print(str(n) *i )"
      ],
      "metadata": {
        "colab": {
          "base_uri": "https://localhost:8080/"
        },
        "id": "2IHKG88QqkQe",
        "outputId": "0d60d64b-f674-46c8-b6cc-c8cb801576a3"
      },
      "execution_count": null,
      "outputs": [
        {
          "output_type": "stream",
          "name": "stdout",
          "text": [
            "5\n",
            "5\n",
            "55\n",
            "555\n",
            "5555\n",
            "55555\n"
          ]
        }
      ]
    },
    {
      "cell_type": "code",
      "source": [
        "a,b=0,1\n",
        "for i in range(19):\n",
        "  a,b=b,a+b\n",
        "  print(a,end=',')\n"
      ],
      "metadata": {
        "colab": {
          "base_uri": "https://localhost:8080/"
        },
        "id": "RszsYxTNtwAr",
        "outputId": "0fa80f10-d5be-43a4-85e7-9e6f9e382d53"
      },
      "execution_count": null,
      "outputs": [
        {
          "output_type": "stream",
          "name": "stdout",
          "text": [
            "1,1,2,3,5,8,13,21,34,55,89,144,233,377,610,987,1597,2584,4181,"
          ]
        }
      ]
    },
    {
      "cell_type": "code",
      "source": [
        "import numpy as np\n",
        "arr=np.array([[2,3,4],\n",
        "            [5,6,7],\n",
        "              [12,13,14],\n",
        "              [25,26,27]])\n",
        "arr\n",
        "arr.shape"
      ],
      "metadata": {
        "colab": {
          "base_uri": "https://localhost:8080/"
        },
        "id": "a4Uiqjxgb7gf",
        "outputId": "71476062-0cff-45b5-daed-42534b6ead50"
      },
      "execution_count": null,
      "outputs": [
        {
          "output_type": "execute_result",
          "data": {
            "text/plain": [
              "(4, 3)"
            ]
          },
          "metadata": {},
          "execution_count": 13
        }
      ]
    },
    {
      "cell_type": "markdown",
      "source": [
        "Concating 2 String"
      ],
      "metadata": {
        "id": "8Uyb738OFc80"
      }
    },
    {
      "cell_type": "code",
      "source": [
        "import pandas as pd\n",
        "first = 'Ankit'\n",
        "last='Chauhan'\n",
        "final=pd.concat(first,last)\n",
        "print(final)"
      ],
      "metadata": {
        "id": "8dZgelWHcAOy",
        "colab": {
          "base_uri": "https://localhost:8080/",
          "height": 193
        },
        "outputId": "38340e38-940e-4156-be8f-3d82386533d1"
      },
      "execution_count": null,
      "outputs": [
        {
          "output_type": "error",
          "ename": "TypeError",
          "evalue": "concat() takes 1 positional argument but 2 were given",
          "traceback": [
            "\u001b[0;31m---------------------------------------------------------------------------\u001b[0m",
            "\u001b[0;31mTypeError\u001b[0m                                 Traceback (most recent call last)",
            "\u001b[0;32m<ipython-input-3-5b7e4bf40d70>\u001b[0m in \u001b[0;36m<cell line: 4>\u001b[0;34m()\u001b[0m\n\u001b[1;32m      2\u001b[0m \u001b[0mfirst\u001b[0m \u001b[0;34m=\u001b[0m \u001b[0;34m'Ankit'\u001b[0m\u001b[0;34m\u001b[0m\u001b[0;34m\u001b[0m\u001b[0m\n\u001b[1;32m      3\u001b[0m \u001b[0mlast\u001b[0m\u001b[0;34m=\u001b[0m\u001b[0;34m'Chauhan'\u001b[0m\u001b[0;34m\u001b[0m\u001b[0;34m\u001b[0m\u001b[0m\n\u001b[0;32m----> 4\u001b[0;31m \u001b[0mfinal\u001b[0m\u001b[0;34m=\u001b[0m\u001b[0mpd\u001b[0m\u001b[0;34m.\u001b[0m\u001b[0mconcat\u001b[0m\u001b[0;34m(\u001b[0m\u001b[0mfirst\u001b[0m\u001b[0;34m,\u001b[0m\u001b[0mlast\u001b[0m\u001b[0;34m)\u001b[0m\u001b[0;34m\u001b[0m\u001b[0;34m\u001b[0m\u001b[0m\n\u001b[0m\u001b[1;32m      5\u001b[0m \u001b[0mprint\u001b[0m\u001b[0;34m(\u001b[0m\u001b[0mfinal\u001b[0m\u001b[0;34m)\u001b[0m\u001b[0;34m\u001b[0m\u001b[0;34m\u001b[0m\u001b[0m\n",
            "\u001b[0;31mTypeError\u001b[0m: concat() takes 1 positional argument but 2 were given"
          ]
        }
      ]
    },
    {
      "cell_type": "code",
      "source": [
        "for i in range(12,51):\n",
        "  print(max(i))"
      ],
      "metadata": {
        "colab": {
          "base_uri": "https://localhost:8080/",
          "height": 158
        },
        "id": "XUnSaNJISaZv",
        "outputId": "46c881c4-548d-47f1-aaaf-0d274938e2df"
      },
      "execution_count": null,
      "outputs": [
        {
          "output_type": "error",
          "ename": "TypeError",
          "evalue": "'int' object is not iterable",
          "traceback": [
            "\u001b[0;31m---------------------------------------------------------------------------\u001b[0m",
            "\u001b[0;31mTypeError\u001b[0m                                 Traceback (most recent call last)",
            "\u001b[0;32m<ipython-input-23-fe417536fcc8>\u001b[0m in \u001b[0;36m<cell line: 1>\u001b[0;34m()\u001b[0m\n\u001b[1;32m      1\u001b[0m \u001b[0;32mfor\u001b[0m \u001b[0mi\u001b[0m \u001b[0;32min\u001b[0m \u001b[0mrange\u001b[0m\u001b[0;34m(\u001b[0m\u001b[0;36m12\u001b[0m\u001b[0;34m,\u001b[0m\u001b[0;36m51\u001b[0m\u001b[0;34m)\u001b[0m\u001b[0;34m:\u001b[0m\u001b[0;34m\u001b[0m\u001b[0;34m\u001b[0m\u001b[0m\n\u001b[0;32m----> 2\u001b[0;31m   \u001b[0mprint\u001b[0m\u001b[0;34m(\u001b[0m\u001b[0mmax\u001b[0m\u001b[0;34m(\u001b[0m\u001b[0mi\u001b[0m\u001b[0;34m)\u001b[0m\u001b[0;34m)\u001b[0m\u001b[0;34m\u001b[0m\u001b[0;34m\u001b[0m\u001b[0m\n\u001b[0m",
            "\u001b[0;31mTypeError\u001b[0m: 'int' object is not iterable"
          ]
        }
      ]
    },
    {
      "cell_type": "code",
      "source": [
        "class Solution:\n",
        "    def longestCommonPrefix(self, strs: List[str]) -> str:\n",
        "        pref = strs[0]\n",
        "        pref_len = len(pref)\n",
        "\n",
        "        for s in strs[1:]:\n",
        "            while pref != s[0:pref_len]:\n",
        "                pref_len -= 1\n",
        "                if pref_len == 0:\n",
        "                    return \"\"\n",
        "\n",
        "                pref = pref[0:pref_len]\n",
        "\n",
        "        return pref\n",
        "strs = [\"flower\",\"flow\",\"flight\"]"
      ],
      "metadata": {
        "colab": {
          "base_uri": "https://localhost:8080/",
          "height": 332
        },
        "id": "bCTYFTs6VHNU",
        "outputId": "381817f7-f6b7-43c5-e32b-68ec060c5d1c"
      },
      "execution_count": 2,
      "outputs": [
        {
          "output_type": "error",
          "ename": "NameError",
          "evalue": "name 'List' is not defined",
          "traceback": [
            "\u001b[0;31m---------------------------------------------------------------------------\u001b[0m",
            "\u001b[0;31mNameError\u001b[0m                                 Traceback (most recent call last)",
            "\u001b[0;32m<ipython-input-2-db49ebf762d6>\u001b[0m in \u001b[0;36m<cell line: 1>\u001b[0;34m()\u001b[0m\n\u001b[0;32m----> 1\u001b[0;31m \u001b[0;32mclass\u001b[0m \u001b[0mSolution\u001b[0m\u001b[0;34m:\u001b[0m\u001b[0;34m\u001b[0m\u001b[0;34m\u001b[0m\u001b[0m\n\u001b[0m\u001b[1;32m      2\u001b[0m     \u001b[0;32mdef\u001b[0m \u001b[0mlongestCommonPrefix\u001b[0m\u001b[0;34m(\u001b[0m\u001b[0mself\u001b[0m\u001b[0;34m,\u001b[0m \u001b[0mstrs\u001b[0m\u001b[0;34m:\u001b[0m \u001b[0mList\u001b[0m\u001b[0;34m[\u001b[0m\u001b[0mstr\u001b[0m\u001b[0;34m]\u001b[0m\u001b[0;34m)\u001b[0m \u001b[0;34m->\u001b[0m \u001b[0mstr\u001b[0m\u001b[0;34m:\u001b[0m\u001b[0;34m\u001b[0m\u001b[0;34m\u001b[0m\u001b[0m\n\u001b[1;32m      3\u001b[0m         \u001b[0mpref\u001b[0m \u001b[0;34m=\u001b[0m \u001b[0mstrs\u001b[0m\u001b[0;34m[\u001b[0m\u001b[0;36m0\u001b[0m\u001b[0;34m]\u001b[0m\u001b[0;34m\u001b[0m\u001b[0;34m\u001b[0m\u001b[0m\n\u001b[1;32m      4\u001b[0m         \u001b[0mpref_len\u001b[0m \u001b[0;34m=\u001b[0m \u001b[0mlen\u001b[0m\u001b[0;34m(\u001b[0m\u001b[0mpref\u001b[0m\u001b[0;34m)\u001b[0m\u001b[0;34m\u001b[0m\u001b[0;34m\u001b[0m\u001b[0m\n\u001b[1;32m      5\u001b[0m \u001b[0;34m\u001b[0m\u001b[0m\n",
            "\u001b[0;32m<ipython-input-2-db49ebf762d6>\u001b[0m in \u001b[0;36mSolution\u001b[0;34m()\u001b[0m\n\u001b[1;32m      1\u001b[0m \u001b[0;32mclass\u001b[0m \u001b[0mSolution\u001b[0m\u001b[0;34m:\u001b[0m\u001b[0;34m\u001b[0m\u001b[0;34m\u001b[0m\u001b[0m\n\u001b[0;32m----> 2\u001b[0;31m     \u001b[0;32mdef\u001b[0m \u001b[0mlongestCommonPrefix\u001b[0m\u001b[0;34m(\u001b[0m\u001b[0mself\u001b[0m\u001b[0;34m,\u001b[0m \u001b[0mstrs\u001b[0m\u001b[0;34m:\u001b[0m \u001b[0mList\u001b[0m\u001b[0;34m[\u001b[0m\u001b[0mstr\u001b[0m\u001b[0;34m]\u001b[0m\u001b[0;34m)\u001b[0m \u001b[0;34m->\u001b[0m \u001b[0mstr\u001b[0m\u001b[0;34m:\u001b[0m\u001b[0;34m\u001b[0m\u001b[0;34m\u001b[0m\u001b[0m\n\u001b[0m\u001b[1;32m      3\u001b[0m         \u001b[0mpref\u001b[0m \u001b[0;34m=\u001b[0m \u001b[0mstrs\u001b[0m\u001b[0;34m[\u001b[0m\u001b[0;36m0\u001b[0m\u001b[0;34m]\u001b[0m\u001b[0;34m\u001b[0m\u001b[0;34m\u001b[0m\u001b[0m\n\u001b[1;32m      4\u001b[0m         \u001b[0mpref_len\u001b[0m \u001b[0;34m=\u001b[0m \u001b[0mlen\u001b[0m\u001b[0;34m(\u001b[0m\u001b[0mpref\u001b[0m\u001b[0;34m)\u001b[0m\u001b[0;34m\u001b[0m\u001b[0;34m\u001b[0m\u001b[0m\n\u001b[1;32m      5\u001b[0m \u001b[0;34m\u001b[0m\u001b[0m\n",
            "\u001b[0;31mNameError\u001b[0m: name 'List' is not defined"
          ]
        }
      ]
    },
    {
      "cell_type": "code",
      "source": [
        "# class Solution:\n",
        "#     def longestCommonPrefix(self, strs: List[str]) -> str:\n",
        "lst=[\"flower\",\"flow\",\"flight\"]\n",
        "res =\"\"\n",
        "def longestCommonPrefix(res , lst):\n",
        "\n",
        "  for i in range(len(lst[0])):\n",
        "    for s in lst:\n",
        "      if i==len(s) or s[i] !=lst[0][i]:\n",
        "        return res\n",
        "        res+= lst[0][i]\n",
        "    return res\n",
        "\n",
        "\n",
        "\n",
        "longestCommonPrefix(res , lst)"
      ],
      "metadata": {
        "colab": {
          "base_uri": "https://localhost:8080/",
          "height": 36
        },
        "id": "v3j9TQ9WYpVI",
        "outputId": "f0182aa8-d79a-4910-a7d7-a992762ea718"
      },
      "execution_count": 11,
      "outputs": [
        {
          "output_type": "execute_result",
          "data": {
            "text/plain": [
              "''"
            ],
            "application/vnd.google.colaboratory.intrinsic+json": {
              "type": "string"
            }
          },
          "metadata": {},
          "execution_count": 11
        }
      ]
    },
    {
      "cell_type": "code",
      "source": [
        "def longestCommonPrefix(lst):\n",
        "    prefix = \"\"\n",
        "    for i in range(len(lst[0])):\n",
        "        char = lst[0][i]\n",
        "        for word in lst[1:]:\n",
        "            if i >= len(word) or word[i] != char:\n",
        "                return prefix\n",
        "        prefix += char\n",
        "    return prefix\n",
        "\n",
        "lst = [\"flower\", \"flow\", \"flight\"]\n",
        "print(longestCommonPrefix(lst))  # Output: \"fl\"\n"
      ],
      "metadata": {
        "colab": {
          "base_uri": "https://localhost:8080/"
        },
        "id": "Rs1--n4bbDJ1",
        "outputId": "5be3545c-5f5d-4d21-df37-adb53d11ddd4"
      },
      "execution_count": 14,
      "outputs": [
        {
          "output_type": "stream",
          "name": "stdout",
          "text": [
            "fl\n"
          ]
        }
      ]
    }
  ],
  "metadata": {
    "colab": {
      "provenance": [],
      "authorship_tag": "ABX9TyP6iLo1CqMUozCb4j8QKlv9",
      "include_colab_link": true
    },
    "kernelspec": {
      "display_name": "Python 3",
      "name": "python3"
    },
    "language_info": {
      "name": "python"
    }
  },
  "nbformat": 4,
  "nbformat_minor": 0
}